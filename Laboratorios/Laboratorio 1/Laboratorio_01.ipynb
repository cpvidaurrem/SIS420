{
  "nbformat": 4,
  "nbformat_minor": 0,
  "metadata": {
    "colab": {
      "provenance": []
    },
    "kernelspec": {
      "name": "python3",
      "display_name": "Python 3"
    },
    "language_info": {
      "name": "python"
    }
  },
  "cells": [
    {
      "cell_type": "code",
      "metadata": {
        "id": "mIM3MHD6oWwH"
      },
      "source": [
        "# utilizado para manejos de directorios y rutas\n",
        "import os\n",
        "# Computacion vectorial y cientifica para python\n",
        "import numpy as np\n",
        "# Librerias para graficación (trazado de gráficos)\n",
        "from matplotlib import pyplot\n",
        "from mpl_toolkits.mplot3d import Axes3D  # Necesario para graficar superficies 3D\n",
        "# llama a matplotlib a embeber graficas dentro de los cuadernillos\n",
        "%matplotlib inline"
      ],
      "execution_count": 96,
      "outputs": []
    },
    {
      "cell_type": "code",
      "source": [
        "import pandas as pd\n",
        "from sklearn.preprocessing import LabelEncoder\n",
        "from datetime import datetime"
      ],
      "metadata": {
        "id": "VsrcqxclXd7M"
      },
      "execution_count": 97,
      "outputs": []
    },
    {
      "cell_type": "code",
      "source": [
        "#Carga de dataset\n",
        "data = pd.read_csv('/content/Cellphone.csv')"
      ],
      "metadata": {
        "id": "7648-iacXhA9"
      },
      "execution_count": 98,
      "outputs": []
    },
    {
      "cell_type": "code",
      "source": [
        "#Mostrando dataset\n",
        "print(data)"
      ],
      "metadata": {
        "colab": {
          "base_uri": "https://localhost:8080/"
        },
        "id": "8a-4nxpvXqEM",
        "outputId": "54f86e3f-4fce-4110-b677-8f5a235e62ae"
      },
      "execution_count": 99,
      "outputs": [
        {
          "output_type": "stream",
          "name": "stdout",
          "text": [
            "     Product_id  Price  Sale  weight  resoloution  ppi  cpu core  cpu freq  \\\n",
            "0           203   2357    10   135.0         5.20  424         8     1.350   \n",
            "1           880   1749    10   125.0         4.00  233         2     1.300   \n",
            "2            40   1916    10   110.0         4.70  312         4     1.200   \n",
            "3            99   1315    11   118.5         4.00  233         2     1.300   \n",
            "4           880   1749    11   125.0         4.00  233         2     1.300   \n",
            "..          ...    ...   ...     ...          ...  ...       ...       ...   \n",
            "156        1206   3551  4638   178.0         5.46  538         4     1.875   \n",
            "157        1296   3211  8016   170.0         5.50  534         4     1.975   \n",
            "158         856   3260  8809   150.0         5.50  401         8     2.200   \n",
            "159        1296   3211  8946   170.0         5.50  534         4     1.975   \n",
            "160        1131   2536  9807   202.0         6.00  367         8     1.500   \n",
            "\n",
            "     internal mem    ram  RearCam  Front_Cam  battery  thickness  \n",
            "0            16.0  3.000    13.00        8.0     2610        7.4  \n",
            "1             4.0  1.000     3.15        0.0     1700        9.9  \n",
            "2             8.0  1.500    13.00        5.0     2000        7.6  \n",
            "3             4.0  0.512     3.15        0.0     1400       11.0  \n",
            "4             4.0  1.000     3.15        0.0     1700        9.9  \n",
            "..            ...    ...      ...        ...      ...        ...  \n",
            "156         128.0  6.000    12.00       16.0     4080        8.4  \n",
            "157         128.0  6.000    20.00        8.0     3400        7.9  \n",
            "158          64.0  4.000    20.00       20.0     3000        6.8  \n",
            "159         128.0  6.000    20.00        8.0     3400        7.9  \n",
            "160          16.0  3.000    21.50       16.0     2700        8.4  \n",
            "\n",
            "[161 rows x 14 columns]\n"
          ]
        }
      ]
    },
    {
      "cell_type": "code",
      "metadata": {
        "colab": {
          "base_uri": "https://localhost:8080/"
        },
        "id": "ZM27RFoseRhP",
        "outputId": "55ad3088-3f04-4334-ebe5-d9fce235b95a"
      },
      "source": [
        "#Mostrando Informacion del dataset\n",
        "data.info()"
      ],
      "execution_count": 100,
      "outputs": [
        {
          "output_type": "stream",
          "name": "stdout",
          "text": [
            "<class 'pandas.core.frame.DataFrame'>\n",
            "RangeIndex: 161 entries, 0 to 160\n",
            "Data columns (total 14 columns):\n",
            " #   Column        Non-Null Count  Dtype  \n",
            "---  ------        --------------  -----  \n",
            " 0   Product_id    161 non-null    int64  \n",
            " 1   Price         161 non-null    int64  \n",
            " 2   Sale          161 non-null    int64  \n",
            " 3   weight        161 non-null    float64\n",
            " 4   resoloution   161 non-null    float64\n",
            " 5   ppi           161 non-null    int64  \n",
            " 6   cpu core      161 non-null    int64  \n",
            " 7   cpu freq      161 non-null    float64\n",
            " 8   internal mem  161 non-null    float64\n",
            " 9   ram           161 non-null    float64\n",
            " 10  RearCam       161 non-null    float64\n",
            " 11  Front_Cam     161 non-null    float64\n",
            " 12  battery       161 non-null    int64  \n",
            " 13  thickness     161 non-null    float64\n",
            "dtypes: float64(8), int64(6)\n",
            "memory usage: 17.7 KB\n"
          ]
        }
      ]
    },
    {
      "cell_type": "code",
      "source": [
        "#eliminar columna Product_id\n",
        "columna_eliminada = 'Product_id'\n",
        "data.drop(columna_eliminada, axis=1, inplace=True)"
      ],
      "metadata": {
        "id": "x4gT7c3zcgvx"
      },
      "execution_count": 101,
      "outputs": []
    },
    {
      "cell_type": "code",
      "source": [
        "#Mostrando dataset con columna eliminada\n",
        "print(data)"
      ],
      "metadata": {
        "colab": {
          "base_uri": "https://localhost:8080/"
        },
        "id": "T_a5LSzwdlm_",
        "outputId": "8a1b0f41-b3e4-42d2-b878-b2bf3086ea1b"
      },
      "execution_count": 102,
      "outputs": [
        {
          "output_type": "stream",
          "name": "stdout",
          "text": [
            "     Price  Sale  weight  resoloution  ppi  cpu core  cpu freq  internal mem  \\\n",
            "0     2357    10   135.0         5.20  424         8     1.350          16.0   \n",
            "1     1749    10   125.0         4.00  233         2     1.300           4.0   \n",
            "2     1916    10   110.0         4.70  312         4     1.200           8.0   \n",
            "3     1315    11   118.5         4.00  233         2     1.300           4.0   \n",
            "4     1749    11   125.0         4.00  233         2     1.300           4.0   \n",
            "..     ...   ...     ...          ...  ...       ...       ...           ...   \n",
            "156   3551  4638   178.0         5.46  538         4     1.875         128.0   \n",
            "157   3211  8016   170.0         5.50  534         4     1.975         128.0   \n",
            "158   3260  8809   150.0         5.50  401         8     2.200          64.0   \n",
            "159   3211  8946   170.0         5.50  534         4     1.975         128.0   \n",
            "160   2536  9807   202.0         6.00  367         8     1.500          16.0   \n",
            "\n",
            "       ram  RearCam  Front_Cam  battery  thickness  \n",
            "0    3.000    13.00        8.0     2610        7.4  \n",
            "1    1.000     3.15        0.0     1700        9.9  \n",
            "2    1.500    13.00        5.0     2000        7.6  \n",
            "3    0.512     3.15        0.0     1400       11.0  \n",
            "4    1.000     3.15        0.0     1700        9.9  \n",
            "..     ...      ...        ...      ...        ...  \n",
            "156  6.000    12.00       16.0     4080        8.4  \n",
            "157  6.000    20.00        8.0     3400        7.9  \n",
            "158  4.000    20.00       20.0     3000        6.8  \n",
            "159  6.000    20.00        8.0     3400        7.9  \n",
            "160  3.000    21.50       16.0     2700        8.4  \n",
            "\n",
            "[161 rows x 13 columns]\n"
          ]
        }
      ]
    },
    {
      "cell_type": "code",
      "source": [
        "data.info()"
      ],
      "metadata": {
        "colab": {
          "base_uri": "https://localhost:8080/"
        },
        "id": "VwOOxCOMdb95",
        "outputId": "dcd21655-1a48-4650-e1c9-91b908a3aeaf"
      },
      "execution_count": 103,
      "outputs": [
        {
          "output_type": "stream",
          "name": "stdout",
          "text": [
            "<class 'pandas.core.frame.DataFrame'>\n",
            "RangeIndex: 161 entries, 0 to 160\n",
            "Data columns (total 13 columns):\n",
            " #   Column        Non-Null Count  Dtype  \n",
            "---  ------        --------------  -----  \n",
            " 0   Price         161 non-null    int64  \n",
            " 1   Sale          161 non-null    int64  \n",
            " 2   weight        161 non-null    float64\n",
            " 3   resoloution   161 non-null    float64\n",
            " 4   ppi           161 non-null    int64  \n",
            " 5   cpu core      161 non-null    int64  \n",
            " 6   cpu freq      161 non-null    float64\n",
            " 7   internal mem  161 non-null    float64\n",
            " 8   ram           161 non-null    float64\n",
            " 9   RearCam       161 non-null    float64\n",
            " 10  Front_Cam     161 non-null    float64\n",
            " 11  battery       161 non-null    int64  \n",
            " 12  thickness     161 non-null    float64\n",
            "dtypes: float64(8), int64(5)\n",
            "memory usage: 16.5 KB\n"
          ]
        }
      ]
    },
    {
      "cell_type": "code",
      "source": [
        "# Lectura de Datos\n",
        "columnas_seleccionadas = list(range(1, 13))\n",
        "X = data.iloc[:, columnas_seleccionadas]\n",
        "y = data.iloc[:, 0]\n",
        "m = y.size"
      ],
      "metadata": {
        "id": "fPFIaMeWZwUa"
      },
      "execution_count": 104,
      "outputs": []
    },
    {
      "cell_type": "code",
      "source": [
        "print(X)\n",
        "print('*'*25)\n",
        "print(y)"
      ],
      "metadata": {
        "colab": {
          "base_uri": "https://localhost:8080/"
        },
        "id": "9PBoiLk7oRNn",
        "outputId": "0b4a6d47-029a-4068-9d48-017b50e55ae3"
      },
      "execution_count": 105,
      "outputs": [
        {
          "output_type": "stream",
          "name": "stdout",
          "text": [
            "     Sale  weight  resoloution  ppi  cpu core  cpu freq  internal mem    ram  \\\n",
            "0      10   135.0         5.20  424         8     1.350          16.0  3.000   \n",
            "1      10   125.0         4.00  233         2     1.300           4.0  1.000   \n",
            "2      10   110.0         4.70  312         4     1.200           8.0  1.500   \n",
            "3      11   118.5         4.00  233         2     1.300           4.0  0.512   \n",
            "4      11   125.0         4.00  233         2     1.300           4.0  1.000   \n",
            "..    ...     ...          ...  ...       ...       ...           ...    ...   \n",
            "156  4638   178.0         5.46  538         4     1.875         128.0  6.000   \n",
            "157  8016   170.0         5.50  534         4     1.975         128.0  6.000   \n",
            "158  8809   150.0         5.50  401         8     2.200          64.0  4.000   \n",
            "159  8946   170.0         5.50  534         4     1.975         128.0  6.000   \n",
            "160  9807   202.0         6.00  367         8     1.500          16.0  3.000   \n",
            "\n",
            "     RearCam  Front_Cam  battery  thickness  \n",
            "0      13.00        8.0     2610        7.4  \n",
            "1       3.15        0.0     1700        9.9  \n",
            "2      13.00        5.0     2000        7.6  \n",
            "3       3.15        0.0     1400       11.0  \n",
            "4       3.15        0.0     1700        9.9  \n",
            "..       ...        ...      ...        ...  \n",
            "156    12.00       16.0     4080        8.4  \n",
            "157    20.00        8.0     3400        7.9  \n",
            "158    20.00       20.0     3000        6.8  \n",
            "159    20.00        8.0     3400        7.9  \n",
            "160    21.50       16.0     2700        8.4  \n",
            "\n",
            "[161 rows x 12 columns]\n",
            "*************************\n",
            "0      2357\n",
            "1      1749\n",
            "2      1916\n",
            "3      1315\n",
            "4      1749\n",
            "       ... \n",
            "156    3551\n",
            "157    3211\n",
            "158    3260\n",
            "159    3211\n",
            "160    2536\n",
            "Name: Price, Length: 161, dtype: int64\n"
          ]
        }
      ]
    },
    {
      "cell_type": "code",
      "metadata": {
        "id": "FXDh9ijIo1tB"
      },
      "source": [
        "#normalizar para que esten en un rango.\n",
        "# esto no modificar, esto usar.\n",
        "def normalizarCaracteristicas(X):\n",
        "    X_norm = X.copy()\n",
        "    mu = np.zeros(X.shape[1])\n",
        "    sigma = np.zeros(X.shape[1])\n",
        "#calcular las medias del vector x pero por las filas\n",
        "    mu = np.mean(X, axis = 0)\n",
        "    sigma = np.std(X, axis = 0)\n",
        "    #obtener la x normalizada\n",
        "    X_norm = (X - mu) / sigma\n",
        "\n",
        "    return X_norm, mu, sigma"
      ],
      "execution_count": 106,
      "outputs": []
    },
    {
      "cell_type": "code",
      "metadata": {
        "colab": {
          "base_uri": "https://localhost:8080/"
        },
        "id": "mnAjjeSwpPnu",
        "outputId": "bf664109-4360-4f6d-c55f-51622120dcbf"
      },
      "source": [
        "# llama featureNormalize con los datos cargados\n",
        "X_norm, mu, sigma = normalizarCaracteristicas(X)\n",
        "\n",
        "print(X)\n",
        "print('Media calculada:', mu)\n",
        "print('Desviación estandar calculada:', sigma)\n",
        "print(X_norm)"
      ],
      "execution_count": 107,
      "outputs": [
        {
          "output_type": "stream",
          "name": "stdout",
          "text": [
            "     Sale  weight  resoloution  ppi  cpu core  cpu freq  internal mem    ram  \\\n",
            "0      10   135.0         5.20  424         8     1.350          16.0  3.000   \n",
            "1      10   125.0         4.00  233         2     1.300           4.0  1.000   \n",
            "2      10   110.0         4.70  312         4     1.200           8.0  1.500   \n",
            "3      11   118.5         4.00  233         2     1.300           4.0  0.512   \n",
            "4      11   125.0         4.00  233         2     1.300           4.0  1.000   \n",
            "..    ...     ...          ...  ...       ...       ...           ...    ...   \n",
            "156  4638   178.0         5.46  538         4     1.875         128.0  6.000   \n",
            "157  8016   170.0         5.50  534         4     1.975         128.0  6.000   \n",
            "158  8809   150.0         5.50  401         8     2.200          64.0  4.000   \n",
            "159  8946   170.0         5.50  534         4     1.975         128.0  6.000   \n",
            "160  9807   202.0         6.00  367         8     1.500          16.0  3.000   \n",
            "\n",
            "     RearCam  Front_Cam  battery  thickness  \n",
            "0      13.00        8.0     2610        7.4  \n",
            "1       3.15        0.0     1700        9.9  \n",
            "2      13.00        5.0     2000        7.6  \n",
            "3       3.15        0.0     1400       11.0  \n",
            "4       3.15        0.0     1700        9.9  \n",
            "..       ...        ...      ...        ...  \n",
            "156    12.00       16.0     4080        8.4  \n",
            "157    20.00        8.0     3400        7.9  \n",
            "158    20.00       20.0     3000        6.8  \n",
            "159    20.00        8.0     3400        7.9  \n",
            "160    21.50       16.0     2700        8.4  \n",
            "\n",
            "[161 rows x 12 columns]\n",
            "Media calculada: Sale             621.465839\n",
            "weight           170.426087\n",
            "resoloution        5.209938\n",
            "ppi              335.055901\n",
            "cpu core           4.857143\n",
            "cpu freq           1.502832\n",
            "internal mem      24.501714\n",
            "ram                2.204994\n",
            "RearCam           10.378261\n",
            "Front_Cam          4.503106\n",
            "battery         2842.111801\n",
            "thickness          8.921739\n",
            "dtype: float64\n",
            "Desviación estandar calculada: Sale            1541.807873\n",
            "weight            92.599689\n",
            "resoloution        1.505256\n",
            "ppi              134.407291\n",
            "cpu core           2.436414\n",
            "cpu freq           0.597917\n",
            "internal mem      28.715178\n",
            "ram                1.604824\n",
            "RearCam            6.162358\n",
            "Front_Cam          4.328548\n",
            "battery         1362.738912\n",
            "thickness          2.185744\n",
            "dtype: float64\n",
            "         Sale    weight  resoloution       ppi  cpu core  cpu freq  \\\n",
            "0   -0.396590 -0.382572    -0.006602  0.661751  1.289952 -0.255608   \n",
            "1   -0.396590 -0.490564    -0.803808 -0.759303 -1.172684 -0.339231   \n",
            "2   -0.396590 -0.652552    -0.338771 -0.171538 -0.351805 -0.506479   \n",
            "3   -0.395942 -0.560759    -0.803808 -0.759303 -1.172684 -0.339231   \n",
            "4   -0.395942 -0.490564    -0.803808 -0.759303 -1.172684 -0.339231   \n",
            "..        ...       ...          ...       ...       ...       ...   \n",
            "156  2.605081  0.081792     0.166126  1.509919 -0.351805  0.622440   \n",
            "157  4.796015 -0.004601     0.192699  1.480159 -0.351805  0.789688   \n",
            "158  5.310347 -0.220585     0.192699  0.490629  1.289952  1.165994   \n",
            "159  5.399203 -0.004601     0.192699  1.480159 -0.351805  0.789688   \n",
            "160  5.957639  0.340972     0.524869  0.237666  1.289952 -0.004737   \n",
            "\n",
            "     internal mem       ram   RearCam  Front_Cam   battery  thickness  \n",
            "0       -0.296070  0.495385  0.425444   0.807868 -0.170327  -0.696211  \n",
            "1       -0.713968 -0.750857 -1.172970  -1.040327 -0.838100   0.447564  \n",
            "2       -0.574669 -0.439297  0.425444   0.114795 -0.617955  -0.604709  \n",
            "3       -0.713968 -1.054940 -1.172970  -1.040327 -1.058245   0.950825  \n",
            "4       -0.713968 -0.750857 -1.172970  -1.040327 -0.838100   0.447564  \n",
            "..            ...       ...       ...        ...       ...        ...  \n",
            "156      3.604306  2.364749  0.263169   2.656063  0.908383  -0.238701  \n",
            "157      3.604306  2.364749  1.561373   0.807868  0.409387  -0.467456  \n",
            "158      1.375519  1.118506  1.561373   3.580160  0.115861  -0.970717  \n",
            "159      3.604306  2.364749  1.561373   0.807868  0.409387  -0.467456  \n",
            "160     -0.296070  0.495385  1.804786   2.656063 -0.104284  -0.238701  \n",
            "\n",
            "[161 rows x 12 columns]\n"
          ]
        }
      ]
    },
    {
      "cell_type": "code",
      "source": [
        "# Anade el termino de interseccion a X\n",
        "# (Columna de unos para X0)\n",
        "X = np.concatenate([np.ones((m, 1)), X_norm], axis=1)"
      ],
      "metadata": {
        "id": "8oFaRR0dFhAD"
      },
      "execution_count": 108,
      "outputs": []
    },
    {
      "cell_type": "code",
      "source": [
        "print(X)"
      ],
      "metadata": {
        "colab": {
          "base_uri": "https://localhost:8080/"
        },
        "id": "IN1Je76dF9xc",
        "outputId": "4194c4f7-c145-48b9-9418-a8f3aaa28a20"
      },
      "execution_count": 109,
      "outputs": [
        {
          "output_type": "stream",
          "name": "stdout",
          "text": [
            "[[ 1.00000000e+00 -3.96590165e-01 -3.82572418e-01 ...  8.07867811e-01\n",
            "  -1.70327419e-01 -6.96210988e-01]\n",
            " [ 1.00000000e+00 -3.96590165e-01 -4.90564141e-01 ... -1.04032711e+00\n",
            "  -8.38100234e-01  4.47564206e-01]\n",
            " [ 1.00000000e+00 -3.96590165e-01 -6.52551726e-01 ...  1.14794716e-01\n",
            "  -6.17955350e-01 -6.04708972e-01]\n",
            " ...\n",
            " [ 1.00000000e+00  5.31034658e+00 -2.20584833e-01 ...  3.58016019e+00\n",
            "   1.15860931e-01 -9.70717034e-01]\n",
            " [ 1.00000000e+00  5.39920331e+00 -4.60138647e-03 ...  8.07867811e-01\n",
            "   4.09387443e-01 -4.67455949e-01]\n",
            " [ 1.00000000e+00  5.95763864e+00  3.40972128e-01 ...  2.65606273e+00\n",
            "  -1.04283953e-01 -2.38700910e-01]]\n"
          ]
        }
      ]
    },
    {
      "cell_type": "code",
      "metadata": {
        "id": "iDWldqUVwYwK"
      },
      "source": [
        "def calcularCosto(X, y, theta):\n",
        "  m = y.shape[0] # numero de ejemplos de entrenamiento\n",
        "  J = 0\n",
        "  #la formula de costo, hipotesis, h o 'y' sombrerito.\n",
        "  h = np.dot(X, theta)\n",
        "  # print(h)\n",
        "  J = (1/(2 * m)) * np.sum(np.square(np.dot(X, theta) - y))\n",
        "  return J"
      ],
      "execution_count": 110,
      "outputs": []
    },
    {
      "cell_type": "code",
      "metadata": {
        "id": "ymTwiKnBzVk1"
      },
      "source": [
        "#pasarle todas las x, las ys, las theta, alpha, y el numero d iteraciones.\n",
        "\n",
        "def calcularDescensoGradiente(X, y, theta, alpha, numero_iteraciones):\n",
        "  #inicializa algunos valores\n",
        "  m = y.shape[0] # numero de ejemplos de entrenamiento\n",
        "\n",
        "  #realiza una copia de theta, el cual sera actualizada por el descenso por el gradiente\n",
        "  theta = theta.copy()\n",
        "\n",
        "  J_historico = []\n",
        "\n",
        "  for i in range(numero_iteraciones):\n",
        "    #segunda ecuacion de la pagina 44 de la diapositivav\n",
        "    theta = theta - (alpha / m) * (np.dot(X, theta) - y).dot(X)\n",
        "    J_historico.append(calcularCosto(X, y, theta))\n",
        "\n",
        "  return theta, J_historico"
      ],
      "execution_count": 111,
      "outputs": []
    },
    {
      "cell_type": "code",
      "metadata": {
        "colab": {
          "base_uri": "https://localhost:8080/",
          "height": 534
        },
        "id": "HqtBZGFex0uR",
        "outputId": "be3b38b5-db47-4437-8b45-bb6c5fa22061"
      },
      "source": [
        "# Elegir algun valor para alpha (probar varias alternativas)\n",
        "alpha = 0.01\n",
        "num_ite = 800\n",
        "\n",
        "#Inicializa theta y ejecuta el descenso por el gradiente\n",
        "theta = np.zeros(13)\n",
        "theta, J_historico = calcularDescensoGradiente(X, y, theta, alpha, num_ite)\n",
        "\n",
        "\n",
        "# Grafica la convergencia del costo\n",
        "pyplot.plot(np.arange(len(J_historico)), J_historico, lw=2)\n",
        "pyplot.xlabel('Numero de iteraciones')\n",
        "pyplot.ylabel('Costo J')\n",
        "\n",
        "# Muestra los resultados del descenso por el gradiente\n",
        "print('theta calculado por el descenso por el gradiente: {:s}'.format(str(theta)))\n",
        "\n",
        "# Estimar el precio para un celular\n",
        "\n",
        "X_array = [1, 11, 134, 5.1, 420, 6, 1.33, 16, 2.5, 11, 9, 2590, 7.2]\n",
        "X_array[1:13] = (X_array[1:13] - mu) / sigma\n",
        "price = np.dot(X_array, theta) #se debe cambiar esto\n",
        "\n",
        "print('El precio predecido para un celular (usando el descenso por el gradiente): {:.4f}' .format(price))"
      ],
      "execution_count": 112,
      "outputs": [
        {
          "output_type": "stream",
          "name": "stdout",
          "text": [
            "theta calculado por el descenso por el gradiente: [2214.88235863  -40.98104182  -51.6194604   -46.93705738  135.82141946\n",
            "  130.80284234   68.8525834   186.51591691  168.41550429   32.33571836\n",
            "   42.06723604  122.10929942 -137.54088371]\n",
            "El precio predecido para un celular (usando el descenso por el gradiente): 2490.5887\n"
          ]
        },
        {
          "output_type": "display_data",
          "data": {
            "text/plain": [
              "<Figure size 640x480 with 1 Axes>"
            ],
            "image/png": "[encoded data removed]"
          },
          "metadata": {}
        }
      ]
    },
    {
      "cell_type": "code",
      "source": [
        "X_array = [1, 11, 134, 5.1, 420, 6, 1.33, 16, 2.5, 11, 9, 2590, 7.2]\n",
        "X_array[1:13] = (X_array[1:13] - mu) / sigma"
      ],
      "metadata": {
        "id": "-yTCBYOOtD0B"
      },
      "execution_count": 113,
      "outputs": []
    },
    {
      "cell_type": "code",
      "source": [
        "X_array[1:13]"
      ],
      "metadata": {
        "colab": {
          "base_uri": "https://localhost:8080/"
        },
        "id": "U2gJ5mN9tGEr",
        "outputId": "74f0f6ae-248b-4a3b-bf90-0ca0bf66c27d"
      },
      "execution_count": 114,
      "outputs": [
        {
          "output_type": "execute_result",
          "data": {
            "text/plain": [
              "[-0.39594157571163563,\n",
              " -0.3933715901512839,\n",
              " -0.07303598690791893,\n",
              " 0.6319902647242429,\n",
              " 0.46907344346724467,\n",
              " -0.2890572819272686,\n",
              " -0.29607040579428323,\n",
              " 0.18382463258551995,\n",
              " 0.10089306190278838,\n",
              " 1.0388921766512595,\n",
              " -0.1850037443508093,\n",
              " -0.7877130032436028]"
            ]
          },
          "metadata": {},
          "execution_count": 114
        }
      ]
    },
    {
      "cell_type": "code",
      "source": [
        "def normalEqn(X, y):\n",
        "\n",
        "    theta = np.zeros(X.shape[1])\n",
        "\n",
        "    theta = np.dot(np.dot(np.linalg.inv(np.dot(X.T,X)),X.T),y)\n",
        "\n",
        "    return theta"
      ],
      "metadata": {
        "id": "w7W_uOjBtI3T"
      },
      "execution_count": 115,
      "outputs": []
    },
    {
      "cell_type": "code",
      "source": [
        "# Calcula los parametros con la ecuación de la normal\n",
        "theta = normalEqn(X, y);\n",
        "\n",
        "# Muestra los resultados optenidos a partir de la aplicación de la ecuación de la normal\n",
        "print('Theta calculado a partir de la ecuación de la normal: {:s}'.format(str(theta)));\n",
        "\n",
        "# Estimar el precio para una casa de superficie de 1650 sq-ft y tres dormitorios\n",
        "\n",
        "X_array = [1, 11, 134, 5.1, 420, 6, 1.33, 16, 2.5, 11, 9, 2590, 7.2]\n",
        "price = np.dot(X_array, theta)\n",
        "\n",
        "print('Precio predecido para un celular (usando la ecuación de la normal): ${:.0f}'.format(price))"
      ],
      "metadata": {
        "colab": {
          "base_uri": "https://localhost:8080/"
        },
        "id": "nGqAiLi7tLkg",
        "outputId": "27b32251-e46a-49fa-8c15-f658ef4b94e4"
      },
      "execution_count": 116,
      "outputs": [
        {
          "output_type": "stream",
          "name": "stdout",
          "text": [
            "Theta calculado a partir de la ecuación de la normal: [2215.59627329  -35.07100445  -35.15399368 -116.79590227  135.17584871\n",
            "  131.51980208   78.86027465  179.46774186  149.57472244   31.09086175\n",
            "   38.82013625  171.55558953 -161.06491518]\n",
            "Precio predecido para un celular (usando la ecuación de la normal): $501297\n"
          ]
        }
      ]
    }
  ]
}