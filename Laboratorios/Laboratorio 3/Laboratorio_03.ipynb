{
  "nbformat": 4,
  "nbformat_minor": 0,
  "metadata": {
    "colab": {
      "provenance": []
    },
    "kernelspec": {
      "name": "python3",
      "display_name": "Python 3"
    },
    "language_info": {
      "name": "python"
    }
  },
  "cells": [
    {
      "cell_type": "code",
      "source": [
        "# se utiliza para el manejo de rutas y directorios.\n",
        "import os\n",
        "\n",
        "# Calculo cientifico y vectorial para python\n",
        "import numpy as np\n",
        "\n",
        "# Librerias para graficar\n",
        "from matplotlib import pyplot\n",
        "\n",
        "# Modulo de optimización de scipy\n",
        "from scipy import optimize\n",
        "\n",
        "# le dice a matplotlib que incruste gráficos en el cuaderno\n",
        "%matplotlib inline"
      ],
      "metadata": {
        "id": "0jAzHcZtDAQW"
      },
      "execution_count": 5,
      "outputs": []
    },
    {
      "cell_type": "code",
      "execution_count": 6,
      "metadata": {
        "id": "xNbvPv1U_fTP"
      },
      "outputs": [],
      "source": [
        "import pandas as pd\n",
        "from sklearn.preprocessing import LabelEncoder\n",
        "from datetime import datetime"
      ]
    },
    {
      "cell_type": "code",
      "source": [
        "# Importar libreria para dividir entrenamiento y prueba\n",
        "from sklearn.model_selection import train_test_split"
      ],
      "metadata": {
        "id": "7I7bayJ9ERXG"
      },
      "execution_count": 7,
      "outputs": []
    },
    {
      "cell_type": "code",
      "source": [
        "# Especificar la ruta del archivo\n",
        "data = pd.read_csv(\"/content/Loan_Data.csv\")"
      ],
      "metadata": {
        "id": "WfTH_QsPAISg"
      },
      "execution_count": 8,
      "outputs": []
    },
    {
      "cell_type": "code",
      "source": [
        "print(data)"
      ],
      "metadata": {
        "colab": {
          "base_uri": "https://localhost:8080/"
        },
        "id": "eDOrpvtZB0xl",
        "outputId": "b79f13d2-2671-4727-d717-c3f61bb68c04"
      },
      "execution_count": 9,
      "outputs": [
        {
          "output_type": "stream",
          "name": "stdout",
          "text": [
            "      Loan_ID  Gender Married Dependents     Education Self_Employed  \\\n",
            "0    LP001002    Male      No          0      Graduate            No   \n",
            "1    LP001003    Male     Yes          1      Graduate            No   \n",
            "2    LP001005    Male     Yes          0      Graduate           Yes   \n",
            "3    LP001006    Male     Yes          0  Not Graduate            No   \n",
            "4    LP001008    Male      No          0      Graduate            No   \n",
            "..        ...     ...     ...        ...           ...           ...   \n",
            "609  LP002978  Female      No          0      Graduate            No   \n",
            "610  LP002979    Male     Yes         3+      Graduate            No   \n",
            "611  LP002983    Male     Yes          1      Graduate            No   \n",
            "612  LP002984    Male     Yes          2      Graduate            No   \n",
            "613  LP002990  Female      No          0      Graduate           Yes   \n",
            "\n",
            "     ApplicantIncome  CoapplicantIncome  LoanAmount  Loan_Amount_Term  \\\n",
            "0               5849                0.0         NaN             360.0   \n",
            "1               4583             1508.0       128.0             360.0   \n",
            "2               3000                0.0        66.0             360.0   \n",
            "3               2583             2358.0       120.0             360.0   \n",
            "4               6000                0.0       141.0             360.0   \n",
            "..               ...                ...         ...               ...   \n",
            "609             2900                0.0        71.0             360.0   \n",
            "610             4106                0.0        40.0             180.0   \n",
            "611             8072              240.0       253.0             360.0   \n",
            "612             7583                0.0       187.0             360.0   \n",
            "613             4583                0.0       133.0             360.0   \n",
            "\n",
            "     Credit_History Property_Area Loan_Status  \n",
            "0               1.0         Urban           Y  \n",
            "1               1.0         Rural           N  \n",
            "2               1.0         Urban           Y  \n",
            "3               1.0         Urban           Y  \n",
            "4               1.0         Urban           Y  \n",
            "..              ...           ...         ...  \n",
            "609             1.0         Rural           Y  \n",
            "610             1.0         Rural           Y  \n",
            "611             1.0         Urban           Y  \n",
            "612             1.0         Urban           Y  \n",
            "613             0.0     Semiurban           N  \n",
            "\n",
            "[614 rows x 13 columns]\n"
          ]
        }
      ]
    },
    {
      "cell_type": "code",
      "source": [
        "data.info()"
      ],
      "metadata": {
        "colab": {
          "base_uri": "https://localhost:8080/"
        },
        "id": "NpyQpGynCRjS",
        "outputId": "384d9592-8b30-4b11-fc7a-d9e66d6d8ee1"
      },
      "execution_count": 10,
      "outputs": [
        {
          "output_type": "stream",
          "name": "stdout",
          "text": [
            "<class 'pandas.core.frame.DataFrame'>\n",
            "RangeIndex: 614 entries, 0 to 613\n",
            "Data columns (total 13 columns):\n",
            " #   Column             Non-Null Count  Dtype  \n",
            "---  ------             --------------  -----  \n",
            " 0   Loan_ID            614 non-null    object \n",
            " 1   Gender             601 non-null    object \n",
            " 2   Married            611 non-null    object \n",
            " 3   Dependents         599 non-null    object \n",
            " 4   Education          614 non-null    object \n",
            " 5   Self_Employed      582 non-null    object \n",
            " 6   ApplicantIncome    614 non-null    int64  \n",
            " 7   CoapplicantIncome  614 non-null    float64\n",
            " 8   LoanAmount         592 non-null    float64\n",
            " 9   Loan_Amount_Term   600 non-null    float64\n",
            " 10  Credit_History     564 non-null    float64\n",
            " 11  Property_Area      614 non-null    object \n",
            " 12  Loan_Status        614 non-null    object \n",
            "dtypes: float64(4), int64(1), object(8)\n",
            "memory usage: 62.5+ KB\n"
          ]
        }
      ]
    },
    {
      "cell_type": "code",
      "source": [
        "columnas_categoricas = data.select_dtypes(include=['object']).columns"
      ],
      "metadata": {
        "id": "pRLPVxXmeVJo"
      },
      "execution_count": 11,
      "outputs": []
    },
    {
      "cell_type": "code",
      "source": [
        "#Procesamiento de frases o palabras\n",
        "for columna in columnas_categoricas:\n",
        "  le = LabelEncoder()\n",
        "  data[columna] = le.fit_transform(data[columna])"
      ],
      "metadata": {
        "id": "OVL2XVDoedIY"
      },
      "execution_count": 12,
      "outputs": []
    },
    {
      "cell_type": "code",
      "source": [
        "print(data)"
      ],
      "metadata": {
        "colab": {
          "base_uri": "https://localhost:8080/"
        },
        "id": "j0FpI0eNejNP",
        "outputId": "0e2fad48-d4bc-40cf-c309-836c3d36c52f"
      },
      "execution_count": 13,
      "outputs": [
        {
          "output_type": "stream",
          "name": "stdout",
          "text": [
            "     Loan_ID  Gender  Married  Dependents  Education  Self_Employed  \\\n",
            "0          0       1        0           0          0              0   \n",
            "1          1       1        1           1          0              0   \n",
            "2          2       1        1           0          0              1   \n",
            "3          3       1        1           0          1              0   \n",
            "4          4       1        0           0          0              0   \n",
            "..       ...     ...      ...         ...        ...            ...   \n",
            "609      609       0        0           0          0              0   \n",
            "610      610       1        1           3          0              0   \n",
            "611      611       1        1           1          0              0   \n",
            "612      612       1        1           2          0              0   \n",
            "613      613       0        0           0          0              1   \n",
            "\n",
            "     ApplicantIncome  CoapplicantIncome  LoanAmount  Loan_Amount_Term  \\\n",
            "0               5849                0.0         NaN             360.0   \n",
            "1               4583             1508.0       128.0             360.0   \n",
            "2               3000                0.0        66.0             360.0   \n",
            "3               2583             2358.0       120.0             360.0   \n",
            "4               6000                0.0       141.0             360.0   \n",
            "..               ...                ...         ...               ...   \n",
            "609             2900                0.0        71.0             360.0   \n",
            "610             4106                0.0        40.0             180.0   \n",
            "611             8072              240.0       253.0             360.0   \n",
            "612             7583                0.0       187.0             360.0   \n",
            "613             4583                0.0       133.0             360.0   \n",
            "\n",
            "     Credit_History  Property_Area  Loan_Status  \n",
            "0               1.0              2            1  \n",
            "1               1.0              0            0  \n",
            "2               1.0              2            1  \n",
            "3               1.0              2            1  \n",
            "4               1.0              2            1  \n",
            "..              ...            ...          ...  \n",
            "609             1.0              0            1  \n",
            "610             1.0              0            1  \n",
            "611             1.0              2            1  \n",
            "612             1.0              2            1  \n",
            "613             0.0              1            0  \n",
            "\n",
            "[614 rows x 13 columns]\n"
          ]
        }
      ]
    },
    {
      "cell_type": "code",
      "source": [
        "data.info()"
      ],
      "metadata": {
        "colab": {
          "base_uri": "https://localhost:8080/"
        },
        "id": "dwaAiJ38ee8P",
        "outputId": "0c7fa1ae-2f5c-4842-e805-3824cc7d9f75"
      },
      "execution_count": 14,
      "outputs": [
        {
          "output_type": "stream",
          "name": "stdout",
          "text": [
            "<class 'pandas.core.frame.DataFrame'>\n",
            "RangeIndex: 614 entries, 0 to 613\n",
            "Data columns (total 13 columns):\n",
            " #   Column             Non-Null Count  Dtype  \n",
            "---  ------             --------------  -----  \n",
            " 0   Loan_ID            614 non-null    int64  \n",
            " 1   Gender             614 non-null    int64  \n",
            " 2   Married            614 non-null    int64  \n",
            " 3   Dependents         614 non-null    int64  \n",
            " 4   Education          614 non-null    int64  \n",
            " 5   Self_Employed      614 non-null    int64  \n",
            " 6   ApplicantIncome    614 non-null    int64  \n",
            " 7   CoapplicantIncome  614 non-null    float64\n",
            " 8   LoanAmount         592 non-null    float64\n",
            " 9   Loan_Amount_Term   600 non-null    float64\n",
            " 10  Credit_History     564 non-null    float64\n",
            " 11  Property_Area      614 non-null    int64  \n",
            " 12  Loan_Status        614 non-null    int64  \n",
            "dtypes: float64(4), int64(9)\n",
            "memory usage: 62.5 KB\n"
          ]
        }
      ]
    },
    {
      "cell_type": "code",
      "source": [
        "#llenar datos vacios\n",
        "columnas_especificas = ['LoanAmount', 'Loan_Amount_Term', 'Credit_History']\n",
        "media_columnas = data[columnas_especificas].mean()\n",
        "data[columnas_especificas] = data[columnas_especificas].fillna(media_columnas)"
      ],
      "metadata": {
        "id": "k69wiPXdf0Cn"
      },
      "execution_count": 15,
      "outputs": []
    },
    {
      "cell_type": "code",
      "source": [
        "#eliminar columna Loan_ID\n",
        "columna_eliminada = 'Loan_ID'\n",
        "data.drop(columna_eliminada, axis=1, inplace=True)"
      ],
      "metadata": {
        "id": "1V7DYCMxiwrI"
      },
      "execution_count": 16,
      "outputs": []
    },
    {
      "cell_type": "code",
      "source": [
        "print(data)"
      ],
      "metadata": {
        "colab": {
          "base_uri": "https://localhost:8080/"
        },
        "id": "CprlkzjoiNfo",
        "outputId": "1960aa52-ac5c-45d5-8ed1-73d22ba6d552"
      },
      "execution_count": 17,
      "outputs": [
        {
          "output_type": "stream",
          "name": "stdout",
          "text": [
            "     Gender  Married  Dependents  Education  Self_Employed  ApplicantIncome  \\\n",
            "0         1        0           0          0              0             5849   \n",
            "1         1        1           1          0              0             4583   \n",
            "2         1        1           0          0              1             3000   \n",
            "3         1        1           0          1              0             2583   \n",
            "4         1        0           0          0              0             6000   \n",
            "..      ...      ...         ...        ...            ...              ...   \n",
            "609       0        0           0          0              0             2900   \n",
            "610       1        1           3          0              0             4106   \n",
            "611       1        1           1          0              0             8072   \n",
            "612       1        1           2          0              0             7583   \n",
            "613       0        0           0          0              1             4583   \n",
            "\n",
            "     CoapplicantIncome  LoanAmount  Loan_Amount_Term  Credit_History  \\\n",
            "0                  0.0  146.412162             360.0             1.0   \n",
            "1               1508.0  128.000000             360.0             1.0   \n",
            "2                  0.0   66.000000             360.0             1.0   \n",
            "3               2358.0  120.000000             360.0             1.0   \n",
            "4                  0.0  141.000000             360.0             1.0   \n",
            "..                 ...         ...               ...             ...   \n",
            "609                0.0   71.000000             360.0             1.0   \n",
            "610                0.0   40.000000             180.0             1.0   \n",
            "611              240.0  253.000000             360.0             1.0   \n",
            "612                0.0  187.000000             360.0             1.0   \n",
            "613                0.0  133.000000             360.0             0.0   \n",
            "\n",
            "     Property_Area  Loan_Status  \n",
            "0                2            1  \n",
            "1                0            0  \n",
            "2                2            1  \n",
            "3                2            1  \n",
            "4                2            1  \n",
            "..             ...          ...  \n",
            "609              0            1  \n",
            "610              0            1  \n",
            "611              2            1  \n",
            "612              2            1  \n",
            "613              1            0  \n",
            "\n",
            "[614 rows x 12 columns]\n"
          ]
        }
      ]
    },
    {
      "cell_type": "code",
      "source": [
        "data.info()"
      ],
      "metadata": {
        "colab": {
          "base_uri": "https://localhost:8080/"
        },
        "id": "mF1Cnm2viN-B",
        "outputId": "290ae6a1-5b8e-4076-a62f-d471df6a16c0"
      },
      "execution_count": 18,
      "outputs": [
        {
          "output_type": "stream",
          "name": "stdout",
          "text": [
            "<class 'pandas.core.frame.DataFrame'>\n",
            "RangeIndex: 614 entries, 0 to 613\n",
            "Data columns (total 12 columns):\n",
            " #   Column             Non-Null Count  Dtype  \n",
            "---  ------             --------------  -----  \n",
            " 0   Gender             614 non-null    int64  \n",
            " 1   Married            614 non-null    int64  \n",
            " 2   Dependents         614 non-null    int64  \n",
            " 3   Education          614 non-null    int64  \n",
            " 4   Self_Employed      614 non-null    int64  \n",
            " 5   ApplicantIncome    614 non-null    int64  \n",
            " 6   CoapplicantIncome  614 non-null    float64\n",
            " 7   LoanAmount         614 non-null    float64\n",
            " 8   Loan_Amount_Term   614 non-null    float64\n",
            " 9   Credit_History     614 non-null    float64\n",
            " 10  Property_Area      614 non-null    int64  \n",
            " 11  Loan_Status        614 non-null    int64  \n",
            "dtypes: float64(4), int64(8)\n",
            "memory usage: 57.7 KB\n"
          ]
        }
      ]
    },
    {
      "cell_type": "code",
      "source": [
        "# Division de dataset en entrenamiento y prueba\n",
        "train_data, test_data = train_test_split(data, test_size=0.2, random_state=42)"
      ],
      "metadata": {
        "id": "CdeGVy_yEiaz"
      },
      "execution_count": 19,
      "outputs": []
    },
    {
      "cell_type": "code",
      "source": [
        "print(train_data)"
      ],
      "metadata": {
        "colab": {
          "base_uri": "https://localhost:8080/"
        },
        "id": "XmRBMGO3FdJ3",
        "outputId": "61b7bc49-45b5-4d43-b2fe-3fbba130c126"
      },
      "execution_count": 20,
      "outputs": [
        {
          "output_type": "stream",
          "name": "stdout",
          "text": [
            "     Gender  Married  Dependents  Education  Self_Employed  ApplicantIncome  \\\n",
            "83        1        1           0          0              0             6000   \n",
            "90        1        1           0          0              0             2958   \n",
            "227       1        1           2          0              0             6250   \n",
            "482       1        1           0          0              0             2083   \n",
            "464       1        0           0          0              0             4166   \n",
            "..      ...      ...         ...        ...            ...              ...   \n",
            "71        1        1           2          1              1             1875   \n",
            "106       1        1           2          0              0            11417   \n",
            "270       0        0           0          0              0             3237   \n",
            "435       0        2           4          0              0            10047   \n",
            "102       1        1           4          0              0            13650   \n",
            "\n",
            "     CoapplicantIncome  LoanAmount  Loan_Amount_Term  Credit_History  \\\n",
            "83              2250.0  265.000000             360.0        0.842199   \n",
            "90              2900.0  131.000000             360.0        1.000000   \n",
            "227             1695.0  210.000000             360.0        1.000000   \n",
            "482             3150.0  128.000000             360.0        1.000000   \n",
            "464                0.0   98.000000             360.0        0.000000   \n",
            "..                 ...         ...               ...             ...   \n",
            "71              1875.0   97.000000             360.0        1.000000   \n",
            "106             1126.0  225.000000             360.0        1.000000   \n",
            "270                0.0   30.000000             360.0        1.000000   \n",
            "435                0.0  146.412162             240.0        1.000000   \n",
            "102                0.0  146.412162             360.0        1.000000   \n",
            "\n",
            "     Property_Area  Loan_Status  \n",
            "83               1            0  \n",
            "90               1            1  \n",
            "227              1            1  \n",
            "482              1            1  \n",
            "464              1            0  \n",
            "..             ...          ...  \n",
            "71               1            1  \n",
            "106              2            1  \n",
            "270              2            1  \n",
            "435              1            1  \n",
            "102              2            1  \n",
            "\n",
            "[491 rows x 12 columns]\n"
          ]
        }
      ]
    },
    {
      "cell_type": "code",
      "source": [
        "print(test_data)"
      ],
      "metadata": {
        "colab": {
          "base_uri": "https://localhost:8080/"
        },
        "id": "gWziX1nLFvRc",
        "outputId": "c8d4449f-f7bc-4b85-8740-0be0349441fd"
      },
      "execution_count": 21,
      "outputs": [
        {
          "output_type": "stream",
          "name": "stdout",
          "text": [
            "     Gender  Married  Dependents  Education  Self_Employed  ApplicantIncome  \\\n",
            "350       1        1           0          0              0             9083   \n",
            "377       1        1           0          0              0             4310   \n",
            "163       1        1           2          0              0             4167   \n",
            "609       0        0           0          0              0             2900   \n",
            "132       1        0           0          0              0             2718   \n",
            "..      ...      ...         ...        ...            ...              ...   \n",
            "231       1        1           0          0              2             3716   \n",
            "312       0        0           0          0              0             2507   \n",
            "248       1        1           1          0              0             2882   \n",
            "11        1        1           2          0              2             2500   \n",
            "333       1        1           0          0              2            63337   \n",
            "\n",
            "     CoapplicantIncome  LoanAmount  Loan_Amount_Term  Credit_History  \\\n",
            "350                0.0       228.0             360.0        1.000000   \n",
            "377                0.0       130.0             360.0        0.842199   \n",
            "163             1447.0       158.0             360.0        1.000000   \n",
            "609                0.0        71.0             360.0        1.000000   \n",
            "132                0.0        70.0             360.0        1.000000   \n",
            "..                 ...         ...               ...             ...   \n",
            "231                0.0        42.0             180.0        1.000000   \n",
            "312                0.0        56.0             360.0        1.000000   \n",
            "248             1843.0       123.0             480.0        1.000000   \n",
            "11              1840.0       109.0             360.0        1.000000   \n",
            "333                0.0       490.0             180.0        1.000000   \n",
            "\n",
            "     Property_Area  Loan_Status  \n",
            "350              1            1  \n",
            "377              1            1  \n",
            "163              0            1  \n",
            "609              0            1  \n",
            "132              1            1  \n",
            "..             ...          ...  \n",
            "231              0            1  \n",
            "312              0            1  \n",
            "248              1            1  \n",
            "11               2            1  \n",
            "333              2            1  \n",
            "\n",
            "[123 rows x 12 columns]\n"
          ]
        }
      ]
    },
    {
      "cell_type": "code",
      "source": [
        "train_data.info()"
      ],
      "metadata": {
        "colab": {
          "base_uri": "https://localhost:8080/"
        },
        "id": "xqiT78fIF3BM",
        "outputId": "a5903ab9-58ec-4d3c-d6e3-5f9d2adb9b08"
      },
      "execution_count": 22,
      "outputs": [
        {
          "output_type": "stream",
          "name": "stdout",
          "text": [
            "<class 'pandas.core.frame.DataFrame'>\n",
            "Int64Index: 491 entries, 83 to 102\n",
            "Data columns (total 12 columns):\n",
            " #   Column             Non-Null Count  Dtype  \n",
            "---  ------             --------------  -----  \n",
            " 0   Gender             491 non-null    int64  \n",
            " 1   Married            491 non-null    int64  \n",
            " 2   Dependents         491 non-null    int64  \n",
            " 3   Education          491 non-null    int64  \n",
            " 4   Self_Employed      491 non-null    int64  \n",
            " 5   ApplicantIncome    491 non-null    int64  \n",
            " 6   CoapplicantIncome  491 non-null    float64\n",
            " 7   LoanAmount         491 non-null    float64\n",
            " 8   Loan_Amount_Term   491 non-null    float64\n",
            " 9   Credit_History     491 non-null    float64\n",
            " 10  Property_Area      491 non-null    int64  \n",
            " 11  Loan_Status        491 non-null    int64  \n",
            "dtypes: float64(4), int64(8)\n",
            "memory usage: 49.9 KB\n"
          ]
        }
      ]
    },
    {
      "cell_type": "code",
      "source": [
        "test_data.info()"
      ],
      "metadata": {
        "colab": {
          "base_uri": "https://localhost:8080/"
        },
        "id": "TmsKLR3yFzEt",
        "outputId": "634b6402-7b62-4935-a699-5a3bb1f9e70c"
      },
      "execution_count": 23,
      "outputs": [
        {
          "output_type": "stream",
          "name": "stdout",
          "text": [
            "<class 'pandas.core.frame.DataFrame'>\n",
            "Int64Index: 123 entries, 350 to 333\n",
            "Data columns (total 12 columns):\n",
            " #   Column             Non-Null Count  Dtype  \n",
            "---  ------             --------------  -----  \n",
            " 0   Gender             123 non-null    int64  \n",
            " 1   Married            123 non-null    int64  \n",
            " 2   Dependents         123 non-null    int64  \n",
            " 3   Education          123 non-null    int64  \n",
            " 4   Self_Employed      123 non-null    int64  \n",
            " 5   ApplicantIncome    123 non-null    int64  \n",
            " 6   CoapplicantIncome  123 non-null    float64\n",
            " 7   LoanAmount         123 non-null    float64\n",
            " 8   Loan_Amount_Term   123 non-null    float64\n",
            " 9   Credit_History     123 non-null    float64\n",
            " 10  Property_Area      123 non-null    int64  \n",
            " 11  Loan_Status        123 non-null    int64  \n",
            "dtypes: float64(4), int64(8)\n",
            "memory usage: 12.5 KB\n"
          ]
        }
      ]
    },
    {
      "cell_type": "code",
      "source": [
        "train_data.to_csv(\"train.csv\", index=False)"
      ],
      "metadata": {
        "id": "DrWqn1TvGQhe"
      },
      "execution_count": 24,
      "outputs": []
    },
    {
      "cell_type": "code",
      "source": [
        "test_data.to_csv(\"test.csv\", index=False)"
      ],
      "metadata": {
        "id": "z7PapTK3GzZx"
      },
      "execution_count": 25,
      "outputs": []
    },
    {
      "cell_type": "code",
      "source": [
        "#Carga de dataset de entrenamiento\n",
        "data = pd.read_csv('/content/train.csv')"
      ],
      "metadata": {
        "id": "LGP6dcE2G-Rx"
      },
      "execution_count": 26,
      "outputs": []
    },
    {
      "cell_type": "code",
      "source": [
        "X = data.iloc[:, :11]\n",
        "y = data.iloc[:, 11]\n",
        "m = y.size"
      ],
      "metadata": {
        "id": "hS93DZKLCnN0"
      },
      "execution_count": 27,
      "outputs": []
    },
    {
      "cell_type": "code",
      "source": [
        "print(X)\n",
        "print('*'*25)\n",
        "print(y)"
      ],
      "metadata": {
        "colab": {
          "base_uri": "https://localhost:8080/"
        },
        "id": "nV2kQk8fCxoq",
        "outputId": "65c624d5-c966-4ffe-98d2-c6f3b9182e5e"
      },
      "execution_count": 28,
      "outputs": [
        {
          "output_type": "stream",
          "name": "stdout",
          "text": [
            "     Gender  Married  Dependents  Education  Self_Employed  ApplicantIncome  \\\n",
            "0         1        1           0          0              0             6000   \n",
            "1         1        1           0          0              0             2958   \n",
            "2         1        1           2          0              0             6250   \n",
            "3         1        1           0          0              0             2083   \n",
            "4         1        0           0          0              0             4166   \n",
            "..      ...      ...         ...        ...            ...              ...   \n",
            "486       1        1           2          1              1             1875   \n",
            "487       1        1           2          0              0            11417   \n",
            "488       0        0           0          0              0             3237   \n",
            "489       0        2           4          0              0            10047   \n",
            "490       1        1           4          0              0            13650   \n",
            "\n",
            "     CoapplicantIncome  LoanAmount  Loan_Amount_Term  Credit_History  \\\n",
            "0               2250.0  265.000000             360.0        0.842199   \n",
            "1               2900.0  131.000000             360.0        1.000000   \n",
            "2               1695.0  210.000000             360.0        1.000000   \n",
            "3               3150.0  128.000000             360.0        1.000000   \n",
            "4                  0.0   98.000000             360.0        0.000000   \n",
            "..                 ...         ...               ...             ...   \n",
            "486             1875.0   97.000000             360.0        1.000000   \n",
            "487             1126.0  225.000000             360.0        1.000000   \n",
            "488                0.0   30.000000             360.0        1.000000   \n",
            "489                0.0  146.412162             240.0        1.000000   \n",
            "490                0.0  146.412162             360.0        1.000000   \n",
            "\n",
            "     Property_Area  \n",
            "0                1  \n",
            "1                1  \n",
            "2                1  \n",
            "3                1  \n",
            "4                1  \n",
            "..             ...  \n",
            "486              1  \n",
            "487              2  \n",
            "488              2  \n",
            "489              1  \n",
            "490              2  \n",
            "\n",
            "[491 rows x 11 columns]\n",
            "*************************\n",
            "0      0\n",
            "1      1\n",
            "2      1\n",
            "3      1\n",
            "4      0\n",
            "      ..\n",
            "486    1\n",
            "487    1\n",
            "488    1\n",
            "489    1\n",
            "490    1\n",
            "Name: Loan_Status, Length: 491, dtype: int64\n"
          ]
        }
      ]
    },
    {
      "cell_type": "code",
      "source": [
        "def sigmoid(z):\n",
        "    # Calcula la sigmoide de una entrada z\n",
        "    # convierte la intrada a un arreglo numpy\n",
        "    z = np.array(z)\n",
        "\n",
        "    g = np.zeros(z.shape)\n",
        "\n",
        "    g = 1 / (1 + np.exp(-z))\n",
        "\n",
        "    return g"
      ],
      "metadata": {
        "id": "tAX5owZMC6t2"
      },
      "execution_count": 29,
      "outputs": []
    },
    {
      "cell_type": "code",
      "source": [
        "# Configurar la matriz adecuadamente, y agregar una columna de unos que corresponde al termino de intercepción.\n",
        "m, n = X.shape\n",
        "# Agraga el termino de intercepción a A\n",
        "X = np.concatenate([np.ones((m, 1)), X], axis=1)"
      ],
      "metadata": {
        "id": "E-x00cZGDF_2"
      },
      "execution_count": 30,
      "outputs": []
    },
    {
      "cell_type": "code",
      "source": [
        "print(X)"
      ],
      "metadata": {
        "colab": {
          "base_uri": "https://localhost:8080/"
        },
        "id": "2OmA926YDMGu",
        "outputId": "e609f670-608d-4255-a1e0-19490de1e344"
      },
      "execution_count": 31,
      "outputs": [
        {
          "output_type": "stream",
          "name": "stdout",
          "text": [
            "[[  1.           1.           1.         ... 360.           0.84219858\n",
            "    1.        ]\n",
            " [  1.           1.           1.         ... 360.           1.\n",
            "    1.        ]\n",
            " [  1.           1.           1.         ... 360.           1.\n",
            "    1.        ]\n",
            " ...\n",
            " [  1.           0.           0.         ... 360.           1.\n",
            "    2.        ]\n",
            " [  1.           0.           2.         ... 240.           1.\n",
            "    1.        ]\n",
            " [  1.           1.           1.         ... 360.           1.\n",
            "    2.        ]]\n"
          ]
        }
      ]
    },
    {
      "cell_type": "code",
      "source": [
        "def calcularCosto(theta, X, y):\n",
        "    # Inicializar algunos valores utiles\n",
        "    m = y.size  # numero de ejemplos de entrenamiento\n",
        "\n",
        "    J = 0\n",
        "    h = sigmoid(X.dot(theta.T))\n",
        "    J = (1 / m) * np.sum(-y.dot(np.log(h)) - (1 - y).dot(np.log(1 - h)))\n",
        "\n",
        "    return J"
      ],
      "metadata": {
        "id": "UFZIbKWtDUCc"
      },
      "execution_count": 32,
      "outputs": []
    },
    {
      "cell_type": "code",
      "source": [
        "def descensoGradiente(theta, X, y, alpha, num_iters):\n",
        "    # Inicializa algunos valores\n",
        "    m = y.shape[0] # numero de ejemplos de entrenamiento\n",
        "\n",
        "    # realiza una copia de theta, el cual será acutalizada por el descenso por el gradiente\n",
        "    theta = theta.copy()\n",
        "    J_history = []\n",
        "\n",
        "    for i in range(num_iters):\n",
        "        h = sigmoid(X.dot(theta.T))\n",
        "        theta = theta - (alpha / m) * (h - y).dot(X)\n",
        "\n",
        "        J_history.append(calcularCosto(theta, X, y))\n",
        "    return theta, J_history"
      ],
      "metadata": {
        "id": "9qkHIAPUDX_9"
      },
      "execution_count": 33,
      "outputs": []
    },
    {
      "cell_type": "code",
      "source": [
        "#Carga de dataset de prueba\n",
        "data = pd.read_csv('/content/test.csv')\n",
        "print(data)"
      ],
      "metadata": {
        "colab": {
          "base_uri": "https://localhost:8080/"
        },
        "id": "B_TaMFerHXJP",
        "outputId": "b11afab5-44c3-44f2-ae94-92468403812b"
      },
      "execution_count": 34,
      "outputs": [
        {
          "output_type": "stream",
          "name": "stdout",
          "text": [
            "     Gender  Married  Dependents  Education  Self_Employed  ApplicantIncome  \\\n",
            "0         1        1           0          0              0             9083   \n",
            "1         1        1           0          0              0             4310   \n",
            "2         1        1           2          0              0             4167   \n",
            "3         0        0           0          0              0             2900   \n",
            "4         1        0           0          0              0             2718   \n",
            "..      ...      ...         ...        ...            ...              ...   \n",
            "118       1        1           0          0              2             3716   \n",
            "119       0        0           0          0              0             2507   \n",
            "120       1        1           1          0              0             2882   \n",
            "121       1        1           2          0              2             2500   \n",
            "122       1        1           0          0              2            63337   \n",
            "\n",
            "     CoapplicantIncome  LoanAmount  Loan_Amount_Term  Credit_History  \\\n",
            "0                  0.0       228.0             360.0        1.000000   \n",
            "1                  0.0       130.0             360.0        0.842199   \n",
            "2               1447.0       158.0             360.0        1.000000   \n",
            "3                  0.0        71.0             360.0        1.000000   \n",
            "4                  0.0        70.0             360.0        1.000000   \n",
            "..                 ...         ...               ...             ...   \n",
            "118                0.0        42.0             180.0        1.000000   \n",
            "119                0.0        56.0             360.0        1.000000   \n",
            "120             1843.0       123.0             480.0        1.000000   \n",
            "121             1840.0       109.0             360.0        1.000000   \n",
            "122                0.0       490.0             180.0        1.000000   \n",
            "\n",
            "     Property_Area  Loan_Status  \n",
            "0                1            1  \n",
            "1                1            1  \n",
            "2                0            1  \n",
            "3                0            1  \n",
            "4                1            1  \n",
            "..             ...          ...  \n",
            "118              0            1  \n",
            "119              0            1  \n",
            "120              1            1  \n",
            "121              2            1  \n",
            "122              2            1  \n",
            "\n",
            "[123 rows x 12 columns]\n"
          ]
        }
      ]
    },
    {
      "cell_type": "code",
      "source": [
        "fila_deseada = 8\n",
        "\n",
        "if fila_deseada < len(data):\n",
        "  fila_completa = data.iloc[fila_deseada].to_numpy()\n",
        "  print(fila_completa)\n",
        "else:\n",
        "  print(\"La fila no existe\")"
      ],
      "metadata": {
        "colab": {
          "base_uri": "https://localhost:8080/"
        },
        "id": "oDnRO6EKHr8T",
        "outputId": "84360490-aaea-40bd-fb50-8b6dfc679694"
      },
      "execution_count": 35,
      "outputs": [
        {
          "output_type": "stream",
          "name": "stdout",
          "text": [
            "[1.000e+00 1.000e+00 3.000e+00 1.000e+00 0.000e+00 2.647e+03 1.587e+03\n",
            " 1.730e+02 3.600e+02 1.000e+00 0.000e+00 0.000e+00]\n"
          ]
        }
      ]
    },
    {
      "cell_type": "code",
      "source": [
        "# Elegir algun valor para alpha (probar varias alternativas)\n",
        "alpha = 0.01\n",
        "num_iters = 10000\n",
        "\n",
        "# inicializa theta y ejecuta el descenso por el gradiente\n",
        "theta = np.zeros(12)\n",
        "theta, J_history = descensoGradiente(theta, X, y, alpha, num_iters)\n",
        "\n",
        "# Grafica la convergencia del costo\n",
        "pyplot.plot(np.arange(len(J_history)), J_history, lw=2)\n",
        "pyplot.xlabel('Numero de iteraciones')\n",
        "pyplot.ylabel('Costo J')\n",
        "\n",
        "# Muestra los resultados del descenso por el gradiente\n",
        "print('theta calculado por el descenso por el gradiente: {:s}'.format(str(theta)))\n",
        "\n",
        "# verificar si se da el prestamo o no\n",
        "X_array = [1, 1.000e+00, 1.000e+00, 3.000e+00, 1.000e+00, 0.000e+00, 2.647e+03, 1.587e+03, 1.730e+02, 3.600e+02, 1.000e+00, 0.000e+00]\n",
        "\n",
        "aprueba = sigmoid(np.dot(X_array, theta))   # Se debe cambiar esto\n",
        "\n",
        "#print(f\"Un estudiante con nota del examen 1: {X_array[1]} y nota del examen 2: {X_array[2]} (usando el descenso por el gradiente):{aprueba}\")\n",
        "print(f\"El prestame se da (usando el descenso por el gradiente):{aprueba}\")"
      ],
      "metadata": {
        "colab": {
          "base_uri": "https://localhost:8080/",
          "height": 570
        },
        "id": "yN1qu9aiDae4",
        "outputId": "fc5cd8a1-d9c2-4d4e-cbee-12528e08998b"
      },
      "execution_count": 38,
      "outputs": [
        {
          "output_type": "stream",
          "name": "stderr",
          "text": [
            "<ipython-input-32-9bf1ce321844>:7: RuntimeWarning: divide by zero encountered in log\n",
            "  J = (1 / m) * np.sum(-y.dot(np.log(h)) - (1 - y).dot(np.log(1 - h)))\n",
            "<ipython-input-29-22f640bc02db>:8: RuntimeWarning: overflow encountered in exp\n",
            "  g = 1 / (1 + np.exp(-z))\n"
          ]
        },
        {
          "output_type": "stream",
          "name": "stdout",
          "text": [
            "theta calculado por el descenso por el gradiente: [ 0.35697182  0.66018118  3.44229237  0.03406277 -1.18496966  0.86626231\n",
            " -1.06290524 -5.67420768  8.25105104 20.05087562  8.93419215  0.97361085]\n",
            "El prestame se da (usando el descenso por el gradiente):0.0\n"
          ]
        },
        {
          "output_type": "display_data",
          "data": {
            "text/plain": [
              "<Figure size 640x480 with 1 Axes>"
            ],
            "image/png": "[encoded data removed]"
          },
          "metadata": {}
        }
      ]
    }
  ]
}