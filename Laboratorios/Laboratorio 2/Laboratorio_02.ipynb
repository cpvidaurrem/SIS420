{
  "nbformat": 4,
  "nbformat_minor": 0,
  "metadata": {
    "colab": {
      "provenance": []
    },
    "kernelspec": {
      "name": "python3",
      "display_name": "Python 3"
    },
    "language_info": {
      "name": "python"
    }
  },
  "cells": [
    {
      "cell_type": "markdown",
      "source": [
        "DATASET DE DATOS DE VENTAS DE PRODUCTOS DE AMAZON\n",
        "\n",
        "\n",
        "Este conjunto de datos tiene los datos de más de 1.000 calificaciones y reseñas de productos de Amazon según sus detalles enumerados en el sitio web oficial de Amazon."
      ],
      "metadata": {
        "id": "-ntEAQ43_U2G"
      }
    },
    {
      "cell_type": "code",
      "metadata": {
        "id": "mIM3MHD6oWwH"
      },
      "source": [
        "# utilizado para manejos de directorios y rutas\n",
        "import os\n",
        "# Computacion vectorial y cientifica para python\n",
        "import numpy as np\n",
        "# Librerias para graficación (trazado de gráficos)\n",
        "from matplotlib import pyplot\n",
        "from mpl_toolkits.mplot3d import Axes3D  # Necesario para graficar superficies 3D\n",
        "# llama a matplotlib a embeber graficas dentro de los cuadernillos\n",
        "%matplotlib inline"
      ],
      "execution_count": 177,
      "outputs": []
    },
    {
      "cell_type": "code",
      "source": [
        "import pandas as pd\n",
        "from sklearn.preprocessing import LabelEncoder\n",
        "from datetime import datetime"
      ],
      "metadata": {
        "id": "VsrcqxclXd7M"
      },
      "execution_count": 178,
      "outputs": []
    },
    {
      "cell_type": "code",
      "source": [
        "#Carga de dataset\n",
        "data = pd.read_csv('/content/amazon.csv')"
      ],
      "metadata": {
        "id": "7648-iacXhA9"
      },
      "execution_count": 179,
      "outputs": []
    },
    {
      "cell_type": "code",
      "source": [
        "#Mostrando dataset\n",
        "print(data)"
      ],
      "metadata": {
        "colab": {
          "base_uri": "https://localhost:8080/"
        },
        "id": "8a-4nxpvXqEM",
        "outputId": "8b0b2760-fdde-4e1e-edd8-4099ade1066d"
      },
      "execution_count": 180,
      "outputs": [
        {
          "output_type": "stream",
          "name": "stdout",
          "text": [
            "      product_id                                       product_name  \\\n",
            "0     B07JW9H4J1  Wayona Nylon Braided USB to Lightning Fast Cha...   \n",
            "1     B098NS6PVG  Ambrane Unbreakable 60W / 3A Fast Charging 1.5...   \n",
            "2     B096MSW6CT  Sounce Fast Phone Charging Cable & Data Sync U...   \n",
            "3     B08HDJ86NZ  boAt Deuce USB 300 2 in 1 Type-C & Micro USB S...   \n",
            "4     B08CF3B7N1  Portronics Konnect L 1.2M Fast Charging 3A 8 P...   \n",
            "...          ...                                                ...   \n",
            "1460  B08L7J3T31  Noir Aqua - 5pcs PP Spun Filter + 1 Spanner | ...   \n",
            "1461  B01M6453MB  Prestige Delight PRWO Electric Rice Cooker (1 ...   \n",
            "1462  B009P2LIL4  Bajaj Majesty RX10 2000 Watts Heat Convector R...   \n",
            "1463  B00J5DYCCA  Havells Ventil Air DSP 230mm Exhaust Fan (Pist...   \n",
            "1464  B01486F4G6  Borosil Jumbo 1000-Watt Grill Sandwich Maker (...   \n",
            "\n",
            "                                               category discounted_price  \\\n",
            "0     Computers&Accessories|Accessories&Peripherals|...             ₹399   \n",
            "1     Computers&Accessories|Accessories&Peripherals|...             ₹199   \n",
            "2     Computers&Accessories|Accessories&Peripherals|...             ₹199   \n",
            "3     Computers&Accessories|Accessories&Peripherals|...             ₹329   \n",
            "4     Computers&Accessories|Accessories&Peripherals|...             ₹154   \n",
            "...                                                 ...              ...   \n",
            "1460  Home&Kitchen|Kitchen&HomeAppliances|WaterPurif...             ₹379   \n",
            "1461  Home&Kitchen|Kitchen&HomeAppliances|SmallKitch...           ₹2,280   \n",
            "1462  Home&Kitchen|Heating,Cooling&AirQuality|RoomHe...           ₹2,219   \n",
            "1463  Home&Kitchen|Heating,Cooling&AirQuality|Fans|E...           ₹1,399   \n",
            "1464  Home&Kitchen|Kitchen&HomeAppliances|SmallKitch...           ₹2,863   \n",
            "\n",
            "     actual_price discount_percentage rating rating_count  \\\n",
            "0          ₹1,099                 64%    4.2       24,269   \n",
            "1            ₹349                 43%    4.0       43,994   \n",
            "2          ₹1,899                 90%    3.9        7,928   \n",
            "3            ₹699                 53%    4.2       94,363   \n",
            "4            ₹399                 61%    4.2       16,905   \n",
            "...           ...                 ...    ...          ...   \n",
            "1460         ₹919                 59%      4        1,090   \n",
            "1461       ₹3,045                 25%    4.1        4,118   \n",
            "1462       ₹3,080                 28%    3.6          468   \n",
            "1463       ₹1,890                 26%      4        8,031   \n",
            "1464       ₹3,690                 22%    4.3        6,987   \n",
            "\n",
            "                                          about_product  \\\n",
            "0     High Compatibility : Compatible With iPhone 12...   \n",
            "1     Compatible with all Type C enabled devices, be...   \n",
            "2     【 Fast Charger& Data Sync】-With built-in safet...   \n",
            "3     The boAt Deuce USB 300 2 in 1 cable is compati...   \n",
            "4     [CHARGE & SYNC FUNCTION]- This cable comes wit...   \n",
            "...                                                 ...   \n",
            "1460  SUPREME QUALITY 90 GRAM 3 LAYER THIK PP SPUN F...   \n",
            "1461                       230 Volts, 400 watts, 1 Year   \n",
            "1462  International design and styling|Two heat sett...   \n",
            "1463  Fan sweep area: 230 MM ; Noise level: (40 - 45...   \n",
            "1464  Brand-Borosil, Specification â€“ 23V ~ 5Hz;1 W...   \n",
            "\n",
            "                                                user_id  \\\n",
            "0     AG3D6O4STAQKAY2UVGEUV46KN35Q,AHMY5CWJMMK5BJRBB...   \n",
            "1     AECPFYFQVRUWC3KGNLJIOREFP5LQ,AGYYVPDD7YG7FYNBX...   \n",
            "2     AGU3BBQ2V2DDAMOAKGFAWDDQ6QHA,AESFLDV2PT363T2AQ...   \n",
            "3     AEWAZDZZJLQUYVOVGBEUKSLXHQ5A,AG5HTSFRRE6NL3M5S...   \n",
            "4     AE3Q6KSUK5P75D5HFYHCRAOLODSA,AFUGIFH5ZAFXRDSZH...   \n",
            "...                                                 ...   \n",
            "1460  AHITFY6AHALOFOHOZEOC6XBP4FEA,AFRABBODZJZQB6Z4U...   \n",
            "1461  AFG5FM3NEMOL6BNFRV2NK5FNJCHQ,AGEINTRN6Z563RMLH...   \n",
            "1462  AGVPWCMAHYQWJOQKMUJN4DW3KM5Q,AF4Q3E66MY4SR7YQZ...   \n",
            "1463  AF2JQCLSCY3QJATWUNNHUSVUPNQQ,AFDMLUXC5LS5RXDJS...   \n",
            "1464  AFGW5PT3R6ZAVQR4Y5MWVAKBZAYA,AG7QNJ2SCS5VS5VYY...   \n",
            "\n",
            "                                              user_name  \\\n",
            "0     Manav,Adarsh gupta,Sundeep,S.Sayeed Ahmed,jasp...   \n",
            "1     ArdKn,Nirbhay kumar,Sagar Viswanathan,Asp,Plac...   \n",
            "2     Kunal,Himanshu,viswanath,sai niharka,saqib mal...   \n",
            "3     Omkar dhale,JD,HEMALATHA,Ajwadh a.,amar singh ...   \n",
            "4     rahuls6099,Swasat Borah,Ajay Wadke,Pranali,RVK...   \n",
            "...                                                 ...   \n",
            "1460  Prabha ds,Raghuram bk,Real Deal,Amazon Custome...   \n",
            "1461  Manu Bhai,Naveenpittu,Evatira Sangma,JAGANNADH...   \n",
            "1462  Nehal Desai,Danish Parwez,Amazon Customer,Amaz...   \n",
            "1463  Shubham Dubey,E.GURUBARAN,Mayank S.,eusuf khan...   \n",
            "1464  Rajib,Ajay B,Vikas Kahol,PARDEEP,Anindya Prama...   \n",
            "\n",
            "                                              review_id  \\\n",
            "0     R3HXWT0LRP0NMF,R2AJM3LFTLZHFO,R6AQJGUP6P86,R1K...   \n",
            "1     RGIQEG07R9HS2,R1SMWZQ86XIN8U,R2J3Y1WL29GWDE,RY...   \n",
            "2     R3J3EQQ9TZI5ZJ,R3E7WBGK7ID0KV,RWU79XKQ6I1QF,R2...   \n",
            "3     R3EEUZKKK9J36I,R3HJVYCLYOY554,REDECAZ7AMPQC,R1...   \n",
            "4     R1BP4L2HH9TFUP,R16PVJEXKV6QZS,R2UPDB81N66T4P,R...   \n",
            "...                                                 ...   \n",
            "1460  R3G3XFHPBFF0E8,R3C0BZCD32EIGW,R2EBVBCN9QPD9R,R...   \n",
            "1461  R3DDL2UPKQ2CK9,R2SYYU1OATVIU5,R1VM993161IYRW,R...   \n",
            "1462  R1TLRJVW4STY5I,R2O455KRN493R1,R3Q5MVGBRIAS2G,R...   \n",
            "1463  R39Q2Y79MM9SWK,R3079BG1NIH6MB,R29A31ZELTZNJM,R...   \n",
            "1464  R20RBRZ0WEUJT9,ROKIFK9R2ISSE,R30EEG2FNJSN5I,R2...   \n",
            "\n",
            "                                           review_title  \\\n",
            "0     Satisfied,Charging is really fast,Value for mo...   \n",
            "1     A Good Braided Cable for Your Type C Device,Go...   \n",
            "2     Good speed for earlier versions,Good Product,W...   \n",
            "3     Good product,Good one,Nice,Really nice product...   \n",
            "4     As good as original,Decent,Good one for second...   \n",
            "...                                                 ...   \n",
            "1460  Received the product without spanner,Excellent...   \n",
            "1461  ok,everything was good couldn't return bcoz I ...   \n",
            "1462  very good,Work but front melt after 2 month,Go...   \n",
            "1463  Fan Speed is slow,Good quality,Good product,go...   \n",
            "1464  Works perfect,Ok good product,Nice Product. Re...   \n",
            "\n",
            "                                         review_content  \\\n",
            "0     Looks durable Charging is fine tooNo complains...   \n",
            "1     I ordered this cable to connect my phone to An...   \n",
            "2     Not quite durable and sturdy,https://m.media-a...   \n",
            "3     Good product,long wire,Charges good,Nice,I bou...   \n",
            "4     Bought this instead of original apple, does th...   \n",
            "...                                                 ...   \n",
            "1460  I received product without spanner,Excellent p...   \n",
            "1461  ok,got everything as mentioned but the measuri...   \n",
            "1462  plastic but cool body ,u have to find sturdy s...   \n",
            "1463  I have installed this in my kitchen working fi...   \n",
            "1464  It does it job perfectly..only issue is temp c...   \n",
            "\n",
            "                                               img_link  \\\n",
            "0     https://m.media-amazon.com/images/W/WEBP_40237...   \n",
            "1     https://m.media-amazon.com/images/W/WEBP_40237...   \n",
            "2     https://m.media-amazon.com/images/W/WEBP_40237...   \n",
            "3     https://m.media-amazon.com/images/I/41V5FtEWPk...   \n",
            "4     https://m.media-amazon.com/images/W/WEBP_40237...   \n",
            "...                                                 ...   \n",
            "1460  https://m.media-amazon.com/images/I/41fDdRtjfx...   \n",
            "1461  https://m.media-amazon.com/images/I/41gzDxk4+k...   \n",
            "1462  https://m.media-amazon.com/images/W/WEBP_40237...   \n",
            "1463  https://m.media-amazon.com/images/W/WEBP_40237...   \n",
            "1464  https://m.media-amazon.com/images/W/WEBP_40237...   \n",
            "\n",
            "                                           product_link  \n",
            "0     https://www.amazon.in/Wayona-Braided-WN3LG1-Sy...  \n",
            "1     https://www.amazon.in/Ambrane-Unbreakable-Char...  \n",
            "2     https://www.amazon.in/Sounce-iPhone-Charging-C...  \n",
            "3     https://www.amazon.in/Deuce-300-Resistant-Tang...  \n",
            "4     https://www.amazon.in/Portronics-Konnect-POR-1...  \n",
            "...                                                 ...  \n",
            "1460  https://www.amazon.in/Noir-Aqua-Spanner-Purifi...  \n",
            "1461  https://www.amazon.in/Prestige-Delight-PRWO-1-...  \n",
            "1462  https://www.amazon.in/Bajaj-RX-10-2000-Watt-Co...  \n",
            "1463  https://www.amazon.in/Havells-Ventilair-230mm-...  \n",
            "1464  https://www.amazon.in/Borosil-Jumbo-1000-Watt-...  \n",
            "\n",
            "[1465 rows x 16 columns]\n"
          ]
        }
      ]
    },
    {
      "cell_type": "code",
      "metadata": {
        "colab": {
          "base_uri": "https://localhost:8080/"
        },
        "id": "ZM27RFoseRhP",
        "outputId": "e9394bf5-a74a-4e14-b53a-b3d1f5fb528f"
      },
      "source": [
        "#Mostrando Informacion del dataset\n",
        "data.info()"
      ],
      "execution_count": 181,
      "outputs": [
        {
          "output_type": "stream",
          "name": "stdout",
          "text": [
            "<class 'pandas.core.frame.DataFrame'>\n",
            "RangeIndex: 1465 entries, 0 to 1464\n",
            "Data columns (total 16 columns):\n",
            " #   Column               Non-Null Count  Dtype \n",
            "---  ------               --------------  ----- \n",
            " 0   product_id           1465 non-null   object\n",
            " 1   product_name         1465 non-null   object\n",
            " 2   category             1465 non-null   object\n",
            " 3   discounted_price     1465 non-null   object\n",
            " 4   actual_price         1465 non-null   object\n",
            " 5   discount_percentage  1465 non-null   object\n",
            " 6   rating               1465 non-null   object\n",
            " 7   rating_count         1463 non-null   object\n",
            " 8   about_product        1465 non-null   object\n",
            " 9   user_id              1465 non-null   object\n",
            " 10  user_name            1465 non-null   object\n",
            " 11  review_id            1465 non-null   object\n",
            " 12  review_title         1465 non-null   object\n",
            " 13  review_content       1465 non-null   object\n",
            " 14  img_link             1465 non-null   object\n",
            " 15  product_link         1465 non-null   object\n",
            "dtypes: object(16)\n",
            "memory usage: 183.2+ KB\n"
          ]
        }
      ]
    },
    {
      "cell_type": "code",
      "source": [
        "#Eliminado simbolos y comas\n",
        "columnas_eliminar = ['actual_price']\n",
        "simbolo = '₹'\n",
        "\n",
        "for columna in columnas_eliminar:\n",
        "    data[columna] = data[columna].str.replace(simbolo, '', regex=False)"
      ],
      "metadata": {
        "id": "6ALSoQlcySwS"
      },
      "execution_count": 182,
      "outputs": []
    },
    {
      "cell_type": "code",
      "source": [
        "columnas_eliminar = ['actual_price']\n",
        "simbolo = ','\n",
        "\n",
        "for columna in columnas_eliminar:\n",
        "    data[columna] = data[columna].str.replace(simbolo, '', regex=False)"
      ],
      "metadata": {
        "id": "fCNnqvR45yWk"
      },
      "execution_count": 183,
      "outputs": []
    },
    {
      "cell_type": "code",
      "source": [
        "columnas_eliminar = ['discounted_price']\n",
        "simbolo = '₹'\n",
        "\n",
        "for columna in columnas_eliminar:\n",
        "    data[columna] = data[columna].str.replace(simbolo, '', regex=False)"
      ],
      "metadata": {
        "id": "k8KinhzWyswI"
      },
      "execution_count": 184,
      "outputs": []
    },
    {
      "cell_type": "code",
      "source": [
        "columnas_eliminar = ['discounted_price']\n",
        "simbolo = ','\n",
        "\n",
        "for columna in columnas_eliminar:\n",
        "    data[columna] = data[columna].str.replace(simbolo, '', regex=False)"
      ],
      "metadata": {
        "id": "30oEnmVn6VVD"
      },
      "execution_count": 185,
      "outputs": []
    },
    {
      "cell_type": "code",
      "source": [
        "columnas_eliminar = ['rating_count']\n",
        "simbolo = ','\n",
        "\n",
        "for columna in columnas_eliminar:\n",
        "    data[columna] = data[columna].str.replace(simbolo, '', regex=False)"
      ],
      "metadata": {
        "id": "m8NDDKQk6ZbM"
      },
      "execution_count": 186,
      "outputs": []
    },
    {
      "cell_type": "code",
      "source": [
        "columnas_eliminar = ['discount_percentage']\n",
        "simbolo = '%'\n",
        "\n",
        "for columna in columnas_eliminar:\n",
        "    data[columna] = data[columna].str.replace(simbolo, '', regex=False)"
      ],
      "metadata": {
        "id": "BKNigjtayyGA"
      },
      "execution_count": 187,
      "outputs": []
    },
    {
      "cell_type": "code",
      "source": [
        "print(data)"
      ],
      "metadata": {
        "colab": {
          "base_uri": "https://localhost:8080/"
        },
        "id": "5nd50hXmyf8s",
        "outputId": "25abcea3-2fd3-4a59-fd9f-a0f20cb353b8"
      },
      "execution_count": 188,
      "outputs": [
        {
          "output_type": "stream",
          "name": "stdout",
          "text": [
            "      product_id                                       product_name  \\\n",
            "0     B07JW9H4J1  Wayona Nylon Braided USB to Lightning Fast Cha...   \n",
            "1     B098NS6PVG  Ambrane Unbreakable 60W / 3A Fast Charging 1.5...   \n",
            "2     B096MSW6CT  Sounce Fast Phone Charging Cable & Data Sync U...   \n",
            "3     B08HDJ86NZ  boAt Deuce USB 300 2 in 1 Type-C & Micro USB S...   \n",
            "4     B08CF3B7N1  Portronics Konnect L 1.2M Fast Charging 3A 8 P...   \n",
            "...          ...                                                ...   \n",
            "1460  B08L7J3T31  Noir Aqua - 5pcs PP Spun Filter + 1 Spanner | ...   \n",
            "1461  B01M6453MB  Prestige Delight PRWO Electric Rice Cooker (1 ...   \n",
            "1462  B009P2LIL4  Bajaj Majesty RX10 2000 Watts Heat Convector R...   \n",
            "1463  B00J5DYCCA  Havells Ventil Air DSP 230mm Exhaust Fan (Pist...   \n",
            "1464  B01486F4G6  Borosil Jumbo 1000-Watt Grill Sandwich Maker (...   \n",
            "\n",
            "                                               category discounted_price  \\\n",
            "0     Computers&Accessories|Accessories&Peripherals|...              399   \n",
            "1     Computers&Accessories|Accessories&Peripherals|...              199   \n",
            "2     Computers&Accessories|Accessories&Peripherals|...              199   \n",
            "3     Computers&Accessories|Accessories&Peripherals|...              329   \n",
            "4     Computers&Accessories|Accessories&Peripherals|...              154   \n",
            "...                                                 ...              ...   \n",
            "1460  Home&Kitchen|Kitchen&HomeAppliances|WaterPurif...              379   \n",
            "1461  Home&Kitchen|Kitchen&HomeAppliances|SmallKitch...             2280   \n",
            "1462  Home&Kitchen|Heating,Cooling&AirQuality|RoomHe...             2219   \n",
            "1463  Home&Kitchen|Heating,Cooling&AirQuality|Fans|E...             1399   \n",
            "1464  Home&Kitchen|Kitchen&HomeAppliances|SmallKitch...             2863   \n",
            "\n",
            "     actual_price discount_percentage rating rating_count  \\\n",
            "0            1099                  64    4.2        24269   \n",
            "1             349                  43    4.0        43994   \n",
            "2            1899                  90    3.9         7928   \n",
            "3             699                  53    4.2        94363   \n",
            "4             399                  61    4.2        16905   \n",
            "...           ...                 ...    ...          ...   \n",
            "1460          919                  59      4         1090   \n",
            "1461         3045                  25    4.1         4118   \n",
            "1462         3080                  28    3.6          468   \n",
            "1463         1890                  26      4         8031   \n",
            "1464         3690                  22    4.3         6987   \n",
            "\n",
            "                                          about_product  \\\n",
            "0     High Compatibility : Compatible With iPhone 12...   \n",
            "1     Compatible with all Type C enabled devices, be...   \n",
            "2     【 Fast Charger& Data Sync】-With built-in safet...   \n",
            "3     The boAt Deuce USB 300 2 in 1 cable is compati...   \n",
            "4     [CHARGE & SYNC FUNCTION]- This cable comes wit...   \n",
            "...                                                 ...   \n",
            "1460  SUPREME QUALITY 90 GRAM 3 LAYER THIK PP SPUN F...   \n",
            "1461                       230 Volts, 400 watts, 1 Year   \n",
            "1462  International design and styling|Two heat sett...   \n",
            "1463  Fan sweep area: 230 MM ; Noise level: (40 - 45...   \n",
            "1464  Brand-Borosil, Specification â€“ 23V ~ 5Hz;1 W...   \n",
            "\n",
            "                                                user_id  \\\n",
            "0     AG3D6O4STAQKAY2UVGEUV46KN35Q,AHMY5CWJMMK5BJRBB...   \n",
            "1     AECPFYFQVRUWC3KGNLJIOREFP5LQ,AGYYVPDD7YG7FYNBX...   \n",
            "2     AGU3BBQ2V2DDAMOAKGFAWDDQ6QHA,AESFLDV2PT363T2AQ...   \n",
            "3     AEWAZDZZJLQUYVOVGBEUKSLXHQ5A,AG5HTSFRRE6NL3M5S...   \n",
            "4     AE3Q6KSUK5P75D5HFYHCRAOLODSA,AFUGIFH5ZAFXRDSZH...   \n",
            "...                                                 ...   \n",
            "1460  AHITFY6AHALOFOHOZEOC6XBP4FEA,AFRABBODZJZQB6Z4U...   \n",
            "1461  AFG5FM3NEMOL6BNFRV2NK5FNJCHQ,AGEINTRN6Z563RMLH...   \n",
            "1462  AGVPWCMAHYQWJOQKMUJN4DW3KM5Q,AF4Q3E66MY4SR7YQZ...   \n",
            "1463  AF2JQCLSCY3QJATWUNNHUSVUPNQQ,AFDMLUXC5LS5RXDJS...   \n",
            "1464  AFGW5PT3R6ZAVQR4Y5MWVAKBZAYA,AG7QNJ2SCS5VS5VYY...   \n",
            "\n",
            "                                              user_name  \\\n",
            "0     Manav,Adarsh gupta,Sundeep,S.Sayeed Ahmed,jasp...   \n",
            "1     ArdKn,Nirbhay kumar,Sagar Viswanathan,Asp,Plac...   \n",
            "2     Kunal,Himanshu,viswanath,sai niharka,saqib mal...   \n",
            "3     Omkar dhale,JD,HEMALATHA,Ajwadh a.,amar singh ...   \n",
            "4     rahuls6099,Swasat Borah,Ajay Wadke,Pranali,RVK...   \n",
            "...                                                 ...   \n",
            "1460  Prabha ds,Raghuram bk,Real Deal,Amazon Custome...   \n",
            "1461  Manu Bhai,Naveenpittu,Evatira Sangma,JAGANNADH...   \n",
            "1462  Nehal Desai,Danish Parwez,Amazon Customer,Amaz...   \n",
            "1463  Shubham Dubey,E.GURUBARAN,Mayank S.,eusuf khan...   \n",
            "1464  Rajib,Ajay B,Vikas Kahol,PARDEEP,Anindya Prama...   \n",
            "\n",
            "                                              review_id  \\\n",
            "0     R3HXWT0LRP0NMF,R2AJM3LFTLZHFO,R6AQJGUP6P86,R1K...   \n",
            "1     RGIQEG07R9HS2,R1SMWZQ86XIN8U,R2J3Y1WL29GWDE,RY...   \n",
            "2     R3J3EQQ9TZI5ZJ,R3E7WBGK7ID0KV,RWU79XKQ6I1QF,R2...   \n",
            "3     R3EEUZKKK9J36I,R3HJVYCLYOY554,REDECAZ7AMPQC,R1...   \n",
            "4     R1BP4L2HH9TFUP,R16PVJEXKV6QZS,R2UPDB81N66T4P,R...   \n",
            "...                                                 ...   \n",
            "1460  R3G3XFHPBFF0E8,R3C0BZCD32EIGW,R2EBVBCN9QPD9R,R...   \n",
            "1461  R3DDL2UPKQ2CK9,R2SYYU1OATVIU5,R1VM993161IYRW,R...   \n",
            "1462  R1TLRJVW4STY5I,R2O455KRN493R1,R3Q5MVGBRIAS2G,R...   \n",
            "1463  R39Q2Y79MM9SWK,R3079BG1NIH6MB,R29A31ZELTZNJM,R...   \n",
            "1464  R20RBRZ0WEUJT9,ROKIFK9R2ISSE,R30EEG2FNJSN5I,R2...   \n",
            "\n",
            "                                           review_title  \\\n",
            "0     Satisfied,Charging is really fast,Value for mo...   \n",
            "1     A Good Braided Cable for Your Type C Device,Go...   \n",
            "2     Good speed for earlier versions,Good Product,W...   \n",
            "3     Good product,Good one,Nice,Really nice product...   \n",
            "4     As good as original,Decent,Good one for second...   \n",
            "...                                                 ...   \n",
            "1460  Received the product without spanner,Excellent...   \n",
            "1461  ok,everything was good couldn't return bcoz I ...   \n",
            "1462  very good,Work but front melt after 2 month,Go...   \n",
            "1463  Fan Speed is slow,Good quality,Good product,go...   \n",
            "1464  Works perfect,Ok good product,Nice Product. Re...   \n",
            "\n",
            "                                         review_content  \\\n",
            "0     Looks durable Charging is fine tooNo complains...   \n",
            "1     I ordered this cable to connect my phone to An...   \n",
            "2     Not quite durable and sturdy,https://m.media-a...   \n",
            "3     Good product,long wire,Charges good,Nice,I bou...   \n",
            "4     Bought this instead of original apple, does th...   \n",
            "...                                                 ...   \n",
            "1460  I received product without spanner,Excellent p...   \n",
            "1461  ok,got everything as mentioned but the measuri...   \n",
            "1462  plastic but cool body ,u have to find sturdy s...   \n",
            "1463  I have installed this in my kitchen working fi...   \n",
            "1464  It does it job perfectly..only issue is temp c...   \n",
            "\n",
            "                                               img_link  \\\n",
            "0     https://m.media-amazon.com/images/W/WEBP_40237...   \n",
            "1     https://m.media-amazon.com/images/W/WEBP_40237...   \n",
            "2     https://m.media-amazon.com/images/W/WEBP_40237...   \n",
            "3     https://m.media-amazon.com/images/I/41V5FtEWPk...   \n",
            "4     https://m.media-amazon.com/images/W/WEBP_40237...   \n",
            "...                                                 ...   \n",
            "1460  https://m.media-amazon.com/images/I/41fDdRtjfx...   \n",
            "1461  https://m.media-amazon.com/images/I/41gzDxk4+k...   \n",
            "1462  https://m.media-amazon.com/images/W/WEBP_40237...   \n",
            "1463  https://m.media-amazon.com/images/W/WEBP_40237...   \n",
            "1464  https://m.media-amazon.com/images/W/WEBP_40237...   \n",
            "\n",
            "                                           product_link  \n",
            "0     https://www.amazon.in/Wayona-Braided-WN3LG1-Sy...  \n",
            "1     https://www.amazon.in/Ambrane-Unbreakable-Char...  \n",
            "2     https://www.amazon.in/Sounce-iPhone-Charging-C...  \n",
            "3     https://www.amazon.in/Deuce-300-Resistant-Tang...  \n",
            "4     https://www.amazon.in/Portronics-Konnect-POR-1...  \n",
            "...                                                 ...  \n",
            "1460  https://www.amazon.in/Noir-Aqua-Spanner-Purifi...  \n",
            "1461  https://www.amazon.in/Prestige-Delight-PRWO-1-...  \n",
            "1462  https://www.amazon.in/Bajaj-RX-10-2000-Watt-Co...  \n",
            "1463  https://www.amazon.in/Havells-Ventilair-230mm-...  \n",
            "1464  https://www.amazon.in/Borosil-Jumbo-1000-Watt-...  \n",
            "\n",
            "[1465 rows x 16 columns]\n"
          ]
        }
      ]
    },
    {
      "cell_type": "code",
      "source": [
        "columna_categorica = 'discounted_price'\n",
        "columna_numerica = 'discounted_pricee'\n",
        "\n",
        "# Crea una nueva columna numérica y copia los valores de la columna categórica\n",
        "data[columna_numerica] = pd.to_numeric(data[columna_categorica], errors='coerce')\n",
        "\n",
        "# Elimina la columna categórica original\n",
        "data.drop(columna_categorica, axis=1, inplace=True)"
      ],
      "metadata": {
        "id": "M4de_lnT0NT1"
      },
      "execution_count": 189,
      "outputs": []
    },
    {
      "cell_type": "code",
      "source": [
        "columna_categorica = 'discount_percentage'\n",
        "columna_numerica = 'discount_percentagee'\n",
        "\n",
        "# Crea una nueva columna numérica y copia los valores de la columna categórica\n",
        "data[columna_numerica] = pd.to_numeric(data[columna_categorica], errors='coerce')\n",
        "\n",
        "# Elimina la columna categórica original\n",
        "data.drop(columna_categorica, axis=1, inplace=True)"
      ],
      "metadata": {
        "id": "59M3V9dV0W66"
      },
      "execution_count": 190,
      "outputs": []
    },
    {
      "cell_type": "code",
      "source": [
        "# Supongamos que 'data' es tu DataFrame\n",
        "columna_categorica = 'actual_price'\n",
        "columna_numerica = 'actual_pricee'\n",
        "\n",
        "# Crea una nueva columna numérica y copia los valores de la columna categórica\n",
        "data[columna_numerica] = pd.to_numeric(data[columna_categorica], errors='coerce')\n",
        "\n",
        "# Elimina la columna categórica original\n",
        "data.drop(columna_categorica, axis=1, inplace=True)"
      ],
      "metadata": {
        "id": "dsEefJg9zKgd"
      },
      "execution_count": 191,
      "outputs": []
    },
    {
      "cell_type": "code",
      "source": [
        "print(data)"
      ],
      "metadata": {
        "colab": {
          "base_uri": "https://localhost:8080/"
        },
        "id": "gI8UOmOk4n4u",
        "outputId": "73e027e0-ddc2-4abf-8c48-b1cafc0f9f22"
      },
      "execution_count": 192,
      "outputs": [
        {
          "output_type": "stream",
          "name": "stdout",
          "text": [
            "      product_id                                       product_name  \\\n",
            "0     B07JW9H4J1  Wayona Nylon Braided USB to Lightning Fast Cha...   \n",
            "1     B098NS6PVG  Ambrane Unbreakable 60W / 3A Fast Charging 1.5...   \n",
            "2     B096MSW6CT  Sounce Fast Phone Charging Cable & Data Sync U...   \n",
            "3     B08HDJ86NZ  boAt Deuce USB 300 2 in 1 Type-C & Micro USB S...   \n",
            "4     B08CF3B7N1  Portronics Konnect L 1.2M Fast Charging 3A 8 P...   \n",
            "...          ...                                                ...   \n",
            "1460  B08L7J3T31  Noir Aqua - 5pcs PP Spun Filter + 1 Spanner | ...   \n",
            "1461  B01M6453MB  Prestige Delight PRWO Electric Rice Cooker (1 ...   \n",
            "1462  B009P2LIL4  Bajaj Majesty RX10 2000 Watts Heat Convector R...   \n",
            "1463  B00J5DYCCA  Havells Ventil Air DSP 230mm Exhaust Fan (Pist...   \n",
            "1464  B01486F4G6  Borosil Jumbo 1000-Watt Grill Sandwich Maker (...   \n",
            "\n",
            "                                               category rating rating_count  \\\n",
            "0     Computers&Accessories|Accessories&Peripherals|...    4.2        24269   \n",
            "1     Computers&Accessories|Accessories&Peripherals|...    4.0        43994   \n",
            "2     Computers&Accessories|Accessories&Peripherals|...    3.9         7928   \n",
            "3     Computers&Accessories|Accessories&Peripherals|...    4.2        94363   \n",
            "4     Computers&Accessories|Accessories&Peripherals|...    4.2        16905   \n",
            "...                                                 ...    ...          ...   \n",
            "1460  Home&Kitchen|Kitchen&HomeAppliances|WaterPurif...      4         1090   \n",
            "1461  Home&Kitchen|Kitchen&HomeAppliances|SmallKitch...    4.1         4118   \n",
            "1462  Home&Kitchen|Heating,Cooling&AirQuality|RoomHe...    3.6          468   \n",
            "1463  Home&Kitchen|Heating,Cooling&AirQuality|Fans|E...      4         8031   \n",
            "1464  Home&Kitchen|Kitchen&HomeAppliances|SmallKitch...    4.3         6987   \n",
            "\n",
            "                                          about_product  \\\n",
            "0     High Compatibility : Compatible With iPhone 12...   \n",
            "1     Compatible with all Type C enabled devices, be...   \n",
            "2     【 Fast Charger& Data Sync】-With built-in safet...   \n",
            "3     The boAt Deuce USB 300 2 in 1 cable is compati...   \n",
            "4     [CHARGE & SYNC FUNCTION]- This cable comes wit...   \n",
            "...                                                 ...   \n",
            "1460  SUPREME QUALITY 90 GRAM 3 LAYER THIK PP SPUN F...   \n",
            "1461                       230 Volts, 400 watts, 1 Year   \n",
            "1462  International design and styling|Two heat sett...   \n",
            "1463  Fan sweep area: 230 MM ; Noise level: (40 - 45...   \n",
            "1464  Brand-Borosil, Specification â€“ 23V ~ 5Hz;1 W...   \n",
            "\n",
            "                                                user_id  \\\n",
            "0     AG3D6O4STAQKAY2UVGEUV46KN35Q,AHMY5CWJMMK5BJRBB...   \n",
            "1     AECPFYFQVRUWC3KGNLJIOREFP5LQ,AGYYVPDD7YG7FYNBX...   \n",
            "2     AGU3BBQ2V2DDAMOAKGFAWDDQ6QHA,AESFLDV2PT363T2AQ...   \n",
            "3     AEWAZDZZJLQUYVOVGBEUKSLXHQ5A,AG5HTSFRRE6NL3M5S...   \n",
            "4     AE3Q6KSUK5P75D5HFYHCRAOLODSA,AFUGIFH5ZAFXRDSZH...   \n",
            "...                                                 ...   \n",
            "1460  AHITFY6AHALOFOHOZEOC6XBP4FEA,AFRABBODZJZQB6Z4U...   \n",
            "1461  AFG5FM3NEMOL6BNFRV2NK5FNJCHQ,AGEINTRN6Z563RMLH...   \n",
            "1462  AGVPWCMAHYQWJOQKMUJN4DW3KM5Q,AF4Q3E66MY4SR7YQZ...   \n",
            "1463  AF2JQCLSCY3QJATWUNNHUSVUPNQQ,AFDMLUXC5LS5RXDJS...   \n",
            "1464  AFGW5PT3R6ZAVQR4Y5MWVAKBZAYA,AG7QNJ2SCS5VS5VYY...   \n",
            "\n",
            "                                              user_name  \\\n",
            "0     Manav,Adarsh gupta,Sundeep,S.Sayeed Ahmed,jasp...   \n",
            "1     ArdKn,Nirbhay kumar,Sagar Viswanathan,Asp,Plac...   \n",
            "2     Kunal,Himanshu,viswanath,sai niharka,saqib mal...   \n",
            "3     Omkar dhale,JD,HEMALATHA,Ajwadh a.,amar singh ...   \n",
            "4     rahuls6099,Swasat Borah,Ajay Wadke,Pranali,RVK...   \n",
            "...                                                 ...   \n",
            "1460  Prabha ds,Raghuram bk,Real Deal,Amazon Custome...   \n",
            "1461  Manu Bhai,Naveenpittu,Evatira Sangma,JAGANNADH...   \n",
            "1462  Nehal Desai,Danish Parwez,Amazon Customer,Amaz...   \n",
            "1463  Shubham Dubey,E.GURUBARAN,Mayank S.,eusuf khan...   \n",
            "1464  Rajib,Ajay B,Vikas Kahol,PARDEEP,Anindya Prama...   \n",
            "\n",
            "                                              review_id  \\\n",
            "0     R3HXWT0LRP0NMF,R2AJM3LFTLZHFO,R6AQJGUP6P86,R1K...   \n",
            "1     RGIQEG07R9HS2,R1SMWZQ86XIN8U,R2J3Y1WL29GWDE,RY...   \n",
            "2     R3J3EQQ9TZI5ZJ,R3E7WBGK7ID0KV,RWU79XKQ6I1QF,R2...   \n",
            "3     R3EEUZKKK9J36I,R3HJVYCLYOY554,REDECAZ7AMPQC,R1...   \n",
            "4     R1BP4L2HH9TFUP,R16PVJEXKV6QZS,R2UPDB81N66T4P,R...   \n",
            "...                                                 ...   \n",
            "1460  R3G3XFHPBFF0E8,R3C0BZCD32EIGW,R2EBVBCN9QPD9R,R...   \n",
            "1461  R3DDL2UPKQ2CK9,R2SYYU1OATVIU5,R1VM993161IYRW,R...   \n",
            "1462  R1TLRJVW4STY5I,R2O455KRN493R1,R3Q5MVGBRIAS2G,R...   \n",
            "1463  R39Q2Y79MM9SWK,R3079BG1NIH6MB,R29A31ZELTZNJM,R...   \n",
            "1464  R20RBRZ0WEUJT9,ROKIFK9R2ISSE,R30EEG2FNJSN5I,R2...   \n",
            "\n",
            "                                           review_title  \\\n",
            "0     Satisfied,Charging is really fast,Value for mo...   \n",
            "1     A Good Braided Cable for Your Type C Device,Go...   \n",
            "2     Good speed for earlier versions,Good Product,W...   \n",
            "3     Good product,Good one,Nice,Really nice product...   \n",
            "4     As good as original,Decent,Good one for second...   \n",
            "...                                                 ...   \n",
            "1460  Received the product without spanner,Excellent...   \n",
            "1461  ok,everything was good couldn't return bcoz I ...   \n",
            "1462  very good,Work but front melt after 2 month,Go...   \n",
            "1463  Fan Speed is slow,Good quality,Good product,go...   \n",
            "1464  Works perfect,Ok good product,Nice Product. Re...   \n",
            "\n",
            "                                         review_content  \\\n",
            "0     Looks durable Charging is fine tooNo complains...   \n",
            "1     I ordered this cable to connect my phone to An...   \n",
            "2     Not quite durable and sturdy,https://m.media-a...   \n",
            "3     Good product,long wire,Charges good,Nice,I bou...   \n",
            "4     Bought this instead of original apple, does th...   \n",
            "...                                                 ...   \n",
            "1460  I received product without spanner,Excellent p...   \n",
            "1461  ok,got everything as mentioned but the measuri...   \n",
            "1462  plastic but cool body ,u have to find sturdy s...   \n",
            "1463  I have installed this in my kitchen working fi...   \n",
            "1464  It does it job perfectly..only issue is temp c...   \n",
            "\n",
            "                                               img_link  \\\n",
            "0     https://m.media-amazon.com/images/W/WEBP_40237...   \n",
            "1     https://m.media-amazon.com/images/W/WEBP_40237...   \n",
            "2     https://m.media-amazon.com/images/W/WEBP_40237...   \n",
            "3     https://m.media-amazon.com/images/I/41V5FtEWPk...   \n",
            "4     https://m.media-amazon.com/images/W/WEBP_40237...   \n",
            "...                                                 ...   \n",
            "1460  https://m.media-amazon.com/images/I/41fDdRtjfx...   \n",
            "1461  https://m.media-amazon.com/images/I/41gzDxk4+k...   \n",
            "1462  https://m.media-amazon.com/images/W/WEBP_40237...   \n",
            "1463  https://m.media-amazon.com/images/W/WEBP_40237...   \n",
            "1464  https://m.media-amazon.com/images/W/WEBP_40237...   \n",
            "\n",
            "                                           product_link  discounted_pricee  \\\n",
            "0     https://www.amazon.in/Wayona-Braided-WN3LG1-Sy...              399.0   \n",
            "1     https://www.amazon.in/Ambrane-Unbreakable-Char...              199.0   \n",
            "2     https://www.amazon.in/Sounce-iPhone-Charging-C...              199.0   \n",
            "3     https://www.amazon.in/Deuce-300-Resistant-Tang...              329.0   \n",
            "4     https://www.amazon.in/Portronics-Konnect-POR-1...              154.0   \n",
            "...                                                 ...                ...   \n",
            "1460  https://www.amazon.in/Noir-Aqua-Spanner-Purifi...              379.0   \n",
            "1461  https://www.amazon.in/Prestige-Delight-PRWO-1-...             2280.0   \n",
            "1462  https://www.amazon.in/Bajaj-RX-10-2000-Watt-Co...             2219.0   \n",
            "1463  https://www.amazon.in/Havells-Ventilair-230mm-...             1399.0   \n",
            "1464  https://www.amazon.in/Borosil-Jumbo-1000-Watt-...             2863.0   \n",
            "\n",
            "      discount_percentagee  actual_pricee  \n",
            "0                       64         1099.0  \n",
            "1                       43          349.0  \n",
            "2                       90         1899.0  \n",
            "3                       53          699.0  \n",
            "4                       61          399.0  \n",
            "...                    ...            ...  \n",
            "1460                    59          919.0  \n",
            "1461                    25         3045.0  \n",
            "1462                    28         3080.0  \n",
            "1463                    26         1890.0  \n",
            "1464                    22         3690.0  \n",
            "\n",
            "[1465 rows x 16 columns]\n"
          ]
        }
      ]
    },
    {
      "cell_type": "code",
      "source": [
        "data.info()"
      ],
      "metadata": {
        "colab": {
          "base_uri": "https://localhost:8080/"
        },
        "id": "WO3_9NjbzUct",
        "outputId": "65cae840-afe8-4443-b864-913505e568f9"
      },
      "execution_count": 193,
      "outputs": [
        {
          "output_type": "stream",
          "name": "stdout",
          "text": [
            "<class 'pandas.core.frame.DataFrame'>\n",
            "RangeIndex: 1465 entries, 0 to 1464\n",
            "Data columns (total 16 columns):\n",
            " #   Column                Non-Null Count  Dtype  \n",
            "---  ------                --------------  -----  \n",
            " 0   product_id            1465 non-null   object \n",
            " 1   product_name          1465 non-null   object \n",
            " 2   category              1465 non-null   object \n",
            " 3   rating                1465 non-null   object \n",
            " 4   rating_count          1463 non-null   object \n",
            " 5   about_product         1465 non-null   object \n",
            " 6   user_id               1465 non-null   object \n",
            " 7   user_name             1465 non-null   object \n",
            " 8   review_id             1465 non-null   object \n",
            " 9   review_title          1465 non-null   object \n",
            " 10  review_content        1465 non-null   object \n",
            " 11  img_link              1465 non-null   object \n",
            " 12  product_link          1465 non-null   object \n",
            " 13  discounted_pricee     1465 non-null   float64\n",
            " 14  discount_percentagee  1465 non-null   int64  \n",
            " 15  actual_pricee         1465 non-null   float64\n",
            "dtypes: float64(2), int64(1), object(13)\n",
            "memory usage: 183.2+ KB\n"
          ]
        }
      ]
    },
    {
      "cell_type": "code",
      "source": [
        "#eliminar columna Product_id\n",
        "columna_eliminada = 'product_id'\n",
        "data.drop(columna_eliminada, axis=1, inplace=True)"
      ],
      "metadata": {
        "id": "x4gT7c3zcgvx"
      },
      "execution_count": 194,
      "outputs": []
    },
    {
      "cell_type": "code",
      "source": [
        "#eliminar columna product_name\n",
        "#columna_eliminada = 'product_name'\n",
        "#data.drop(columna_eliminada, axis=1, inplace=True)"
      ],
      "metadata": {
        "id": "83adLiKM1stl"
      },
      "execution_count": 195,
      "outputs": []
    },
    {
      "cell_type": "code",
      "source": [
        "#eliminar columna about_product\n",
        "columna_eliminada = 'about_product'\n",
        "data.drop(columna_eliminada, axis=1, inplace=True)"
      ],
      "metadata": {
        "id": "Y4pEY6hO13Gx"
      },
      "execution_count": 196,
      "outputs": []
    },
    {
      "cell_type": "code",
      "source": [
        "#eliminar columna user_id\n",
        "columna_eliminada = 'user_id'\n",
        "data.drop(columna_eliminada, axis=1, inplace=True)"
      ],
      "metadata": {
        "id": "s_176w2B15S6"
      },
      "execution_count": 197,
      "outputs": []
    },
    {
      "cell_type": "code",
      "source": [
        "#eliminar columna user_name\n",
        "columna_eliminada = 'user_name'\n",
        "data.drop(columna_eliminada, axis=1, inplace=True)"
      ],
      "metadata": {
        "id": "5wwUxFSq15Gz"
      },
      "execution_count": 198,
      "outputs": []
    },
    {
      "cell_type": "code",
      "source": [
        "#eliminar columna review_id\n",
        "columna_eliminada = 'review_id'\n",
        "data.drop(columna_eliminada, axis=1, inplace=True)"
      ],
      "metadata": {
        "id": "OFGX0msH145p"
      },
      "execution_count": 199,
      "outputs": []
    },
    {
      "cell_type": "code",
      "source": [
        "#eliminar columna review_title\n",
        "columna_eliminada = 'review_title'\n",
        "data.drop(columna_eliminada, axis=1, inplace=True)"
      ],
      "metadata": {
        "id": "cyGEznkv14rq"
      },
      "execution_count": 200,
      "outputs": []
    },
    {
      "cell_type": "code",
      "source": [
        "#eliminar columna review_content\n",
        "columna_eliminada = 'review_content'\n",
        "data.drop(columna_eliminada, axis=1, inplace=True)"
      ],
      "metadata": {
        "id": "NMJQr8YC14cx"
      },
      "execution_count": 201,
      "outputs": []
    },
    {
      "cell_type": "code",
      "source": [
        "#eliminar columna img_link\n",
        "columna_eliminada = 'img_link'\n",
        "data.drop(columna_eliminada, axis=1, inplace=True)"
      ],
      "metadata": {
        "id": "FhbeppVQ14OK"
      },
      "execution_count": 202,
      "outputs": []
    },
    {
      "cell_type": "code",
      "source": [
        "#eliminar columna product_link\n",
        "columna_eliminada = 'product_link'\n",
        "data.drop(columna_eliminada, axis=1, inplace=True)"
      ],
      "metadata": {
        "id": "ePGAHqUz13gp"
      },
      "execution_count": 203,
      "outputs": []
    },
    {
      "cell_type": "code",
      "source": [
        "#Mostrando dataset con columna eliminada\n",
        "print(data)"
      ],
      "metadata": {
        "colab": {
          "base_uri": "https://localhost:8080/"
        },
        "id": "T_a5LSzwdlm_",
        "outputId": "ba977806-e6d0-487a-cff6-8dcb2eeb2ed2"
      },
      "execution_count": 204,
      "outputs": [
        {
          "output_type": "stream",
          "name": "stdout",
          "text": [
            "                                           product_name  \\\n",
            "0     Wayona Nylon Braided USB to Lightning Fast Cha...   \n",
            "1     Ambrane Unbreakable 60W / 3A Fast Charging 1.5...   \n",
            "2     Sounce Fast Phone Charging Cable & Data Sync U...   \n",
            "3     boAt Deuce USB 300 2 in 1 Type-C & Micro USB S...   \n",
            "4     Portronics Konnect L 1.2M Fast Charging 3A 8 P...   \n",
            "...                                                 ...   \n",
            "1460  Noir Aqua - 5pcs PP Spun Filter + 1 Spanner | ...   \n",
            "1461  Prestige Delight PRWO Electric Rice Cooker (1 ...   \n",
            "1462  Bajaj Majesty RX10 2000 Watts Heat Convector R...   \n",
            "1463  Havells Ventil Air DSP 230mm Exhaust Fan (Pist...   \n",
            "1464  Borosil Jumbo 1000-Watt Grill Sandwich Maker (...   \n",
            "\n",
            "                                               category rating rating_count  \\\n",
            "0     Computers&Accessories|Accessories&Peripherals|...    4.2        24269   \n",
            "1     Computers&Accessories|Accessories&Peripherals|...    4.0        43994   \n",
            "2     Computers&Accessories|Accessories&Peripherals|...    3.9         7928   \n",
            "3     Computers&Accessories|Accessories&Peripherals|...    4.2        94363   \n",
            "4     Computers&Accessories|Accessories&Peripherals|...    4.2        16905   \n",
            "...                                                 ...    ...          ...   \n",
            "1460  Home&Kitchen|Kitchen&HomeAppliances|WaterPurif...      4         1090   \n",
            "1461  Home&Kitchen|Kitchen&HomeAppliances|SmallKitch...    4.1         4118   \n",
            "1462  Home&Kitchen|Heating,Cooling&AirQuality|RoomHe...    3.6          468   \n",
            "1463  Home&Kitchen|Heating,Cooling&AirQuality|Fans|E...      4         8031   \n",
            "1464  Home&Kitchen|Kitchen&HomeAppliances|SmallKitch...    4.3         6987   \n",
            "\n",
            "      discounted_pricee  discount_percentagee  actual_pricee  \n",
            "0                 399.0                    64         1099.0  \n",
            "1                 199.0                    43          349.0  \n",
            "2                 199.0                    90         1899.0  \n",
            "3                 329.0                    53          699.0  \n",
            "4                 154.0                    61          399.0  \n",
            "...                 ...                   ...            ...  \n",
            "1460              379.0                    59          919.0  \n",
            "1461             2280.0                    25         3045.0  \n",
            "1462             2219.0                    28         3080.0  \n",
            "1463             1399.0                    26         1890.0  \n",
            "1464             2863.0                    22         3690.0  \n",
            "\n",
            "[1465 rows x 7 columns]\n"
          ]
        }
      ]
    },
    {
      "cell_type": "code",
      "source": [
        "data.info()"
      ],
      "metadata": {
        "colab": {
          "base_uri": "https://localhost:8080/"
        },
        "id": "VwOOxCOMdb95",
        "outputId": "f9877248-8380-4166-9517-4d363435ca03"
      },
      "execution_count": 205,
      "outputs": [
        {
          "output_type": "stream",
          "name": "stdout",
          "text": [
            "<class 'pandas.core.frame.DataFrame'>\n",
            "RangeIndex: 1465 entries, 0 to 1464\n",
            "Data columns (total 7 columns):\n",
            " #   Column                Non-Null Count  Dtype  \n",
            "---  ------                --------------  -----  \n",
            " 0   product_name          1465 non-null   object \n",
            " 1   category              1465 non-null   object \n",
            " 2   rating                1465 non-null   object \n",
            " 3   rating_count          1463 non-null   object \n",
            " 4   discounted_pricee     1465 non-null   float64\n",
            " 5   discount_percentagee  1465 non-null   int64  \n",
            " 6   actual_pricee         1465 non-null   float64\n",
            "dtypes: float64(2), int64(1), object(4)\n",
            "memory usage: 80.2+ KB\n"
          ]
        }
      ]
    },
    {
      "cell_type": "code",
      "source": [
        "#variables categoricas\n",
        "columnas_categoricas = data.select_dtypes(include=['object']).columns\n",
        "#variables fechas\n",
        "columnas_fechas = data.select_dtypes(include=['datetime64']).columns"
      ],
      "metadata": {
        "id": "y1F4ktiD3YrD"
      },
      "execution_count": 206,
      "outputs": []
    },
    {
      "cell_type": "code",
      "source": [
        "#Procesamiento de frases o palabras\n",
        "for columna in columnas_categoricas:\n",
        "  le = LabelEncoder()\n",
        "  data[columna] = le.fit_transform(data[columna])"
      ],
      "metadata": {
        "id": "OMBuJFJK3ZNz"
      },
      "execution_count": 207,
      "outputs": []
    },
    {
      "cell_type": "code",
      "source": [
        "#Fechas a numeros\n",
        "for columna in columnas_fechas:\n",
        "  data[columna] = pd.to_numeric(data[columna].map(datetime.timestamp))"
      ],
      "metadata": {
        "id": "bbsQllJf3dPL"
      },
      "execution_count": 208,
      "outputs": []
    },
    {
      "cell_type": "code",
      "source": [
        "#resultado\n",
        "print(data)"
      ],
      "metadata": {
        "colab": {
          "base_uri": "https://localhost:8080/"
        },
        "id": "4l4RFuC63fki",
        "outputId": "6bdf0a6b-0309-44c9-9511-432487f32fc8"
      },
      "execution_count": 209,
      "outputs": [
        {
          "output_type": "stream",
          "name": "stdout",
          "text": [
            "      product_name  category  rating  rating_count  discounted_pricee  \\\n",
            "0             1158        10      19           451              399.0   \n",
            "1              134        10      17           761              199.0   \n",
            "2             1023        10      15          1034              199.0   \n",
            "3             1264        10      19          1118              329.0   \n",
            "4              829        10      19           272              154.0   \n",
            "...            ...       ...     ...           ...                ...   \n",
            "1460           696       192      16            49              379.0   \n",
            "1461           850       172      18           725             2280.0   \n",
            "1462           164       138      12           793             2219.0   \n",
            "1463           462       129      16          1041             1399.0   \n",
            "1464           195       174      20           976             2863.0   \n",
            "\n",
            "      discount_percentagee  actual_pricee  \n",
            "0                       64         1099.0  \n",
            "1                       43          349.0  \n",
            "2                       90         1899.0  \n",
            "3                       53          699.0  \n",
            "4                       61          399.0  \n",
            "...                    ...            ...  \n",
            "1460                    59          919.0  \n",
            "1461                    25         3045.0  \n",
            "1462                    28         3080.0  \n",
            "1463                    26         1890.0  \n",
            "1464                    22         3690.0  \n",
            "\n",
            "[1465 rows x 7 columns]\n"
          ]
        }
      ]
    },
    {
      "cell_type": "code",
      "source": [
        "data.info()"
      ],
      "metadata": {
        "colab": {
          "base_uri": "https://localhost:8080/"
        },
        "id": "zREDDShb3n7q",
        "outputId": "3585cb48-3411-4bba-c8c3-f55f418e6ddd"
      },
      "execution_count": 210,
      "outputs": [
        {
          "output_type": "stream",
          "name": "stdout",
          "text": [
            "<class 'pandas.core.frame.DataFrame'>\n",
            "RangeIndex: 1465 entries, 0 to 1464\n",
            "Data columns (total 7 columns):\n",
            " #   Column                Non-Null Count  Dtype  \n",
            "---  ------                --------------  -----  \n",
            " 0   product_name          1465 non-null   int64  \n",
            " 1   category              1465 non-null   int64  \n",
            " 2   rating                1465 non-null   int64  \n",
            " 3   rating_count          1465 non-null   int64  \n",
            " 4   discounted_pricee     1465 non-null   float64\n",
            " 5   discount_percentagee  1465 non-null   int64  \n",
            " 6   actual_pricee         1465 non-null   float64\n",
            "dtypes: float64(2), int64(5)\n",
            "memory usage: 80.2 KB\n"
          ]
        }
      ]
    },
    {
      "cell_type": "code",
      "source": [
        "#llenar datos vacios\n",
        "#columnas_especificas = ['discounted_pricee', 'actual_pricee']\n",
        "#media_columnas = data[columnas_especificas].mean()\n",
        "#data[columnas_especificas] = data[columnas_especificas].fillna(media_columnas)"
      ],
      "metadata": {
        "id": "VCEtn2oP3sL5"
      },
      "execution_count": 211,
      "outputs": []
    },
    {
      "cell_type": "code",
      "source": [
        "data.info()"
      ],
      "metadata": {
        "colab": {
          "base_uri": "https://localhost:8080/"
        },
        "id": "KZdMlOJw31hZ",
        "outputId": "55fec25c-8902-426f-9aa9-3a2760b99308"
      },
      "execution_count": 212,
      "outputs": [
        {
          "output_type": "stream",
          "name": "stdout",
          "text": [
            "<class 'pandas.core.frame.DataFrame'>\n",
            "RangeIndex: 1465 entries, 0 to 1464\n",
            "Data columns (total 7 columns):\n",
            " #   Column                Non-Null Count  Dtype  \n",
            "---  ------                --------------  -----  \n",
            " 0   product_name          1465 non-null   int64  \n",
            " 1   category              1465 non-null   int64  \n",
            " 2   rating                1465 non-null   int64  \n",
            " 3   rating_count          1465 non-null   int64  \n",
            " 4   discounted_pricee     1465 non-null   float64\n",
            " 5   discount_percentagee  1465 non-null   int64  \n",
            " 6   actual_pricee         1465 non-null   float64\n",
            "dtypes: float64(2), int64(5)\n",
            "memory usage: 80.2 KB\n"
          ]
        }
      ]
    },
    {
      "cell_type": "code",
      "source": [
        "# Lectura de Datos\n",
        "X = data.iloc[:, :6]\n",
        "y = data.iloc[:, 6]\n",
        "m = y.size"
      ],
      "metadata": {
        "id": "fPFIaMeWZwUa"
      },
      "execution_count": 213,
      "outputs": []
    },
    {
      "cell_type": "code",
      "source": [
        "print(X)\n",
        "print('*'*25)\n",
        "print(y)"
      ],
      "metadata": {
        "colab": {
          "base_uri": "https://localhost:8080/"
        },
        "id": "9PBoiLk7oRNn",
        "outputId": "6c6b3da7-fa4d-4060-a57c-84efdee7b97e"
      },
      "execution_count": 214,
      "outputs": [
        {
          "output_type": "stream",
          "name": "stdout",
          "text": [
            "      product_name  category  rating  rating_count  discounted_pricee  \\\n",
            "0             1158        10      19           451              399.0   \n",
            "1              134        10      17           761              199.0   \n",
            "2             1023        10      15          1034              199.0   \n",
            "3             1264        10      19          1118              329.0   \n",
            "4              829        10      19           272              154.0   \n",
            "...            ...       ...     ...           ...                ...   \n",
            "1460           696       192      16            49              379.0   \n",
            "1461           850       172      18           725             2280.0   \n",
            "1462           164       138      12           793             2219.0   \n",
            "1463           462       129      16          1041             1399.0   \n",
            "1464           195       174      20           976             2863.0   \n",
            "\n",
            "      discount_percentagee  \n",
            "0                       64  \n",
            "1                       43  \n",
            "2                       90  \n",
            "3                       53  \n",
            "4                       61  \n",
            "...                    ...  \n",
            "1460                    59  \n",
            "1461                    25  \n",
            "1462                    28  \n",
            "1463                    26  \n",
            "1464                    22  \n",
            "\n",
            "[1465 rows x 6 columns]\n",
            "*************************\n",
            "0       1099.0\n",
            "1        349.0\n",
            "2       1899.0\n",
            "3        699.0\n",
            "4        399.0\n",
            "         ...  \n",
            "1460     919.0\n",
            "1461    3045.0\n",
            "1462    3080.0\n",
            "1463    1890.0\n",
            "1464    3690.0\n",
            "Name: actual_pricee, Length: 1465, dtype: float64\n"
          ]
        }
      ]
    },
    {
      "cell_type": "code",
      "metadata": {
        "id": "FXDh9ijIo1tB"
      },
      "source": [
        "#normalizar para que esten en un rango.\n",
        "# esto no modificar, esto usar.\n",
        "def normalizarCaracteristicas(X):\n",
        "    X_norm = X.copy()\n",
        "    mu = np.zeros(X.shape[1])\n",
        "    sigma = np.zeros(X.shape[1])\n",
        "#calcular las medias del vector x pero por las filas\n",
        "    mu = np.mean(X, axis = 0)\n",
        "    sigma = np.std(X, axis = 0)\n",
        "    #obtener la x normalizada\n",
        "    X_norm = (X - mu) / sigma\n",
        "\n",
        "    return X_norm, mu, sigma"
      ],
      "execution_count": 215,
      "outputs": []
    },
    {
      "cell_type": "code",
      "metadata": {
        "colab": {
          "base_uri": "https://localhost:8080/"
        },
        "id": "mnAjjeSwpPnu",
        "outputId": "fa4542f5-eff7-40de-b9a1-210350499027"
      },
      "source": [
        "# llama featureNormalize con los datos cargados\n",
        "X_norm, mu, sigma = normalizarCaracteristicas(X)\n",
        "\n",
        "print(X)\n",
        "print('Media calculada:', mu)\n",
        "print('Desviación estandar calculada:', sigma)\n",
        "print(X_norm)"
      ],
      "execution_count": 216,
      "outputs": [
        {
          "output_type": "stream",
          "name": "stdout",
          "text": [
            "      product_name  category  rating  rating_count  discounted_pricee  \\\n",
            "0             1158        10      19           451              399.0   \n",
            "1              134        10      17           761              199.0   \n",
            "2             1023        10      15          1034              199.0   \n",
            "3             1264        10      19          1118              329.0   \n",
            "4              829        10      19           272              154.0   \n",
            "...            ...       ...     ...           ...                ...   \n",
            "1460           696       192      16            49              379.0   \n",
            "1461           850       172      18           725             2280.0   \n",
            "1462           164       138      12           793             2219.0   \n",
            "1463           462       129      16          1041             1399.0   \n",
            "1464           195       174      20           976             2863.0   \n",
            "\n",
            "      discount_percentagee  \n",
            "0                       64  \n",
            "1                       43  \n",
            "2                       90  \n",
            "3                       53  \n",
            "4                       61  \n",
            "...                    ...  \n",
            "1460                    59  \n",
            "1461                    25  \n",
            "1462                    28  \n",
            "1463                    26  \n",
            "1464                    22  \n",
            "\n",
            "[1465 rows x 6 columns]\n",
            "Media calculada: product_name             671.842321\n",
            "category                  95.152218\n",
            "rating                    17.694198\n",
            "rating_count             569.656655\n",
            "discounted_pricee       3125.310874\n",
            "discount_percentagee      47.691468\n",
            "dtype: float64\n",
            "Desviación estandar calculada: product_name             389.194308\n",
            "category                  60.574953\n",
            "rating                     3.254716\n",
            "rating_count             330.817806\n",
            "discounted_pricee       6941.933920\n",
            "discount_percentagee      21.628520\n",
            "dtype: float64\n",
            "      product_name  category    rating  rating_count  discounted_pricee  \\\n",
            "0         1.249139 -1.405733  0.401203     -0.358677          -0.392731   \n",
            "1        -1.381938 -1.405733 -0.213290      0.578395          -0.421541   \n",
            "2         0.902268 -1.405733 -0.827783      1.403623          -0.421541   \n",
            "3         1.521496 -1.405733  0.401203      1.657539          -0.402814   \n",
            "4         0.403803 -1.405733  0.401203     -0.899760          -0.428024   \n",
            "...            ...       ...       ...           ...                ...   \n",
            "1460      0.062071  1.598809 -0.520536     -1.573847          -0.395612   \n",
            "1461      0.457760  1.268640  0.093957      0.469574          -0.121769   \n",
            "1462     -1.304855  0.707351 -1.749522      0.675125          -0.130556   \n",
            "1463     -0.539171  0.558775 -0.520536      1.424782          -0.248679   \n",
            "1464     -1.225204  1.301657  0.708450      1.228299          -0.037786   \n",
            "\n",
            "      discount_percentagee  \n",
            "0                 0.754029  \n",
            "1                -0.216911  \n",
            "2                 1.956146  \n",
            "3                 0.245441  \n",
            "4                 0.615323  \n",
            "...                    ...  \n",
            "1460              0.522853  \n",
            "1461             -1.049146  \n",
            "1462             -0.910440  \n",
            "1463             -1.002910  \n",
            "1464             -1.187851  \n",
            "\n",
            "[1465 rows x 6 columns]\n"
          ]
        }
      ]
    },
    {
      "cell_type": "code",
      "source": [
        "# Anade el termino de interseccion a X\n",
        "# (Columna de unos para X0)\n",
        "X = np.concatenate([np.ones((m, 1)), X_norm], axis=1)"
      ],
      "metadata": {
        "id": "8oFaRR0dFhAD"
      },
      "execution_count": 217,
      "outputs": []
    },
    {
      "cell_type": "code",
      "source": [
        "print(X)"
      ],
      "metadata": {
        "colab": {
          "base_uri": "https://localhost:8080/"
        },
        "id": "IN1Je76dF9xc",
        "outputId": "75c3c656-5a1e-42b7-e6d7-7d0a69237317"
      },
      "execution_count": 218,
      "outputs": [
        {
          "output_type": "stream",
          "name": "stdout",
          "text": [
            "[[ 1.          1.24913872 -1.40573313 ... -0.35867675 -0.39273074\n",
            "   0.75402906]\n",
            " [ 1.         -1.38193779 -1.40573313 ...  0.57839494 -0.42154116\n",
            "  -0.21691117]\n",
            " [ 1.          0.90226828 -1.40573313 ...  1.40362259 -0.42154116\n",
            "   1.95614555]\n",
            " ...\n",
            " [ 1.         -1.30485547  0.70735146 ...  0.67512492 -0.13055596\n",
            "  -0.91043991]\n",
            " [ 1.         -0.53917109  0.5587752  ...  1.42478227 -0.24867867\n",
            "  -1.00291041]\n",
            " [ 1.         -1.22520374  1.3016565  ...  1.2282995  -0.03778643\n",
            "  -1.18785141]]\n"
          ]
        }
      ]
    },
    {
      "cell_type": "code",
      "metadata": {
        "id": "iDWldqUVwYwK"
      },
      "source": [
        "def calcularCosto(X, y, theta):\n",
        "  m = y.shape[0] # numero de ejemplos de entrenamiento\n",
        "  J = 0\n",
        "  #la formula de costo, hipotesis, h o 'y' sombrerito.\n",
        "  h = np.dot(X, theta)\n",
        "  # print(h)\n",
        "  J = (1/(2 * m)) * np.sum(np.square(np.dot(X, theta) - y))\n",
        "  return J"
      ],
      "execution_count": 219,
      "outputs": []
    },
    {
      "cell_type": "code",
      "metadata": {
        "id": "ymTwiKnBzVk1"
      },
      "source": [
        "#pasarle todas las x, las ys, las theta, alpha, y el numero d iteraciones.\n",
        "\n",
        "def calcularDescensoGradiente(X, y, theta, alpha, numero_iteraciones):\n",
        "  #inicializa algunos valores\n",
        "  m = y.shape[0] # numero de ejemplos de entrenamiento\n",
        "\n",
        "  #realiza una copia de theta, el cual sera actualizada por el descenso por el gradiente\n",
        "  theta = theta.copy()\n",
        "\n",
        "  J_historico = []\n",
        "\n",
        "  for i in range(numero_iteraciones):\n",
        "    #segunda ecuacion de la pagina 44 de la diapositivav\n",
        "    theta = theta - (alpha / m) * (np.dot(X, theta) - y).dot(X)\n",
        "    J_historico.append(calcularCosto(X, y, theta))\n",
        "\n",
        "  return theta, J_historico"
      ],
      "execution_count": 220,
      "outputs": []
    },
    {
      "cell_type": "code",
      "metadata": {
        "colab": {
          "base_uri": "https://localhost:8080/",
          "height": 517
        },
        "id": "HqtBZGFex0uR",
        "outputId": "6fe9f2cf-0be5-4cd1-e1ae-7febfea89889"
      },
      "source": [
        "# Elegir algun valor para alpha (probar varias alternativas)\n",
        "alpha = 0.001\n",
        "num_ite = 1000\n",
        "\n",
        "#Inicializa theta y ejecuta el descenso por el gradiente\n",
        "theta = np.zeros(7)\n",
        "theta, J_historico = calcularDescensoGradiente(X, y, theta, alpha, num_ite)\n",
        "\n",
        "\n",
        "# Grafica la convergencia del costo\n",
        "pyplot.plot(np.arange(len(J_historico)), J_historico, lw=2)\n",
        "pyplot.xlabel('Numero de iteraciones')\n",
        "pyplot.ylabel('Costo J')\n",
        "\n",
        "# Muestra los resultados del descenso por el gradiente\n",
        "print('theta calculado por el descenso por el gradiente: {:s}'.format(str(theta)))\n",
        "\n",
        "# Estimar el precio el producto de amazon\n",
        "\n",
        "X_array = [1, 195, 174, 20, 976, 2863, 22]\n",
        "X_array[1:7] = (X_array[1:7] - mu) / sigma\n",
        "price = np.dot(X_array, theta) #se debe cambiar esto\n",
        "\n",
        "print('El precio predecido para el producto de amazon es (usando el descenso por el gradiente): {:.4f}' .format(price))"
      ],
      "execution_count": 221,
      "outputs": [
        {
          "output_type": "stream",
          "name": "stdout",
          "text": [
            "theta calculado por el descenso por el gradiente: [3442.89249047  339.07960789  531.50261338  538.56769589    9.64632042\n",
            " 6508.92286421  -47.32425825]\n",
            "El precio predecido para el producto de amazon es (usando el descenso por el gradiente): 3922.9466\n"
          ]
        },
        {
          "output_type": "display_data",
          "data": {
            "text/plain": [
              "<Figure size 640x480 with 1 Axes>"
            ],
            "image/png": "[encoded data removed]"
          },
          "metadata": {}
        }
      ]
    },
    {
      "cell_type": "code",
      "source": [
        "X_array = [1, 195, 174, 20, 976, 2863, 22]\n",
        "X_array[1:7] = (X_array[1:7] - mu) / sigma"
      ],
      "metadata": {
        "id": "-yTCBYOOtD0B"
      },
      "execution_count": 222,
      "outputs": []
    },
    {
      "cell_type": "code",
      "source": [
        "X_array[1:7]"
      ],
      "metadata": {
        "colab": {
          "base_uri": "https://localhost:8080/"
        },
        "id": "U2gJ5mN9tGEr",
        "outputId": "fcb5abcf-9f38-456a-c39d-12b18d193b98"
      },
      "execution_count": 223,
      "outputs": [
        {
          "output_type": "execute_result",
          "data": {
            "text/plain": [
              "[-1.2252037380680174,\n",
              " 1.3016565004903953,\n",
              " 0.7084495956778188,\n",
              " 1.2282994974852672,\n",
              " -0.037786426194917004,\n",
              " -1.187851410534286]"
            ]
          },
          "metadata": {},
          "execution_count": 223
        }
      ]
    },
    {
      "cell_type": "code",
      "source": [
        "def normalEqn(X, y):\n",
        "\n",
        "    theta = np.zeros(X.shape[1])\n",
        "\n",
        "    theta = np.dot(np.dot(np.linalg.inv(np.dot(X.T,X)),X.T),y)\n",
        "\n",
        "    return theta"
      ],
      "metadata": {
        "id": "w7W_uOjBtI3T"
      },
      "execution_count": 224,
      "outputs": []
    },
    {
      "cell_type": "code",
      "source": [
        "# Calcula los parametros con la ecuación de la normal\n",
        "theta = normalEqn(X, y);\n",
        "\n",
        "# Muestra los resultados optenidos a partir de la aplicación de la ecuación de la normal\n",
        "print('Theta calculado a partir de la ecuación de la normal: {:s}'.format(str(theta)));\n",
        "\n",
        "# Estimar el precio para una casa de superficie de 1650 sq-ft y tres dormitorios\n",
        "\n",
        "X_array = [1, 195, 174, 20, 976, 2863, 22]\n",
        "price = np.dot(X_array, theta)\n",
        "\n",
        "print('Precio predecido para el producto de amazon es (usando la ecuación de la normal): ${:.0f}'.format(price))"
      ],
      "metadata": {
        "colab": {
          "base_uri": "https://localhost:8080/"
        },
        "id": "nGqAiLi7tLkg",
        "outputId": "727ab204-c62c-473c-8e36-48523520e219"
      },
      "execution_count": 225,
      "outputs": [
        {
          "output_type": "stream",
          "name": "stdout",
          "text": [
            "Theta calculado a partir de la ecuación de la normal: [ 5444.99063481  -214.19690141   557.20429772   327.90283627\n",
            "   -55.78139007 10750.43187092  1570.11578861]\n",
            "Precio predecido para el producto de amazon es (usando la ecuación de la normal): $30825775\n"
          ]
        }
      ]
    }
  ]
}