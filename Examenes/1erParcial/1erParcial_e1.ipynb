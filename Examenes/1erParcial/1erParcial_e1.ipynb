{
  "nbformat": 4,
  "nbformat_minor": 0,
  "metadata": {
    "kernelspec": {
      "display_name": "Python 3",
      "language": "python",
      "name": "python3"
    },
    "language_info": {
      "codemirror_mode": {
        "name": "ipython",
        "version": 3
      },
      "file_extension": ".py",
      "mimetype": "text/x-python",
      "name": "python",
      "nbconvert_exporter": "python",
      "pygments_lexer": "ipython3",
      "version": "3.8.8"
    },
    "colab": {
      "provenance": []
    }
  },
  "cells": [
    {
      "cell_type": "code",
      "metadata": {
        "id": "UIILrG1ifDOM"
      },
      "source": [
        "# se utiliza para el manejo de rutas y directorios.\n",
        "import os\n",
        "\n",
        "# Calculo cientifico y vectorial para python\n",
        "import numpy as np\n",
        "\n",
        "# Librerias para graficar\n",
        "from matplotlib import pyplot\n",
        "\n",
        "# Modulo de optimización de scipy\n",
        "from scipy import optimize\n",
        "\n",
        "# le dice a matplotlib que incruste gráficos en el cuaderno\n",
        "%matplotlib inline"
      ],
      "execution_count": 1,
      "outputs": []
    },
    {
      "cell_type": "code",
      "source": [
        "# Importar libreria para dividir entrenamiento y prueba\n",
        "from sklearn.model_selection import train_test_split"
      ],
      "metadata": {
        "id": "63P-84YPPurY"
      },
      "execution_count": 2,
      "outputs": []
    },
    {
      "cell_type": "code",
      "source": [
        "import pandas as pd\n",
        "from sklearn.preprocessing import LabelEncoder\n",
        "from datetime import datetime"
      ],
      "metadata": {
        "id": "r_gUmh6tFMkc"
      },
      "execution_count": 3,
      "outputs": []
    },
    {
      "cell_type": "code",
      "source": [
        "#Acceder al drive\n",
        "from google.colab import drive\n",
        "drive.mount('/content/drive')"
      ],
      "metadata": {
        "colab": {
          "base_uri": "https://localhost:8080/"
        },
        "id": "wpDhIFhQFFV9",
        "outputId": "20d9c197-72c5-4adb-a4a7-80ad4fd6acd7"
      },
      "execution_count": 4,
      "outputs": [
        {
          "output_type": "stream",
          "name": "stdout",
          "text": [
            "Mounted at /content/drive\n"
          ]
        }
      ]
    },
    {
      "cell_type": "code",
      "metadata": {
        "id": "uafc5vSkfL9X"
      },
      "source": [
        "#Cargar datased\n",
        "data = pd.read_csv('/content/drive/MyDrive/IA/Airlines.csv', header=0)"
      ],
      "execution_count": 5,
      "outputs": []
    },
    {
      "cell_type": "code",
      "source": [
        "print(data)"
      ],
      "metadata": {
        "colab": {
          "base_uri": "https://localhost:8080/"
        },
        "id": "Vps7UBaeHJ3s",
        "outputId": "e8e1f2e8-654d-4ba9-94a9-9b919bfd17af"
      },
      "execution_count": 6,
      "outputs": [
        {
          "output_type": "stream",
          "name": "stdout",
          "text": [
            "            id Airline  Flight AirportFrom AirportTo  DayOfWeek  Time  Length  \\\n",
            "0            1      CO     269         SFO       IAH          3    15     205   \n",
            "1            2      US    1558         PHX       CLT          3    15     222   \n",
            "2            3      AA    2400         LAX       DFW          3    20     165   \n",
            "3            4      AA    2466         SFO       DFW          3    20     195   \n",
            "4            5      AS     108         ANC       SEA          3    30     202   \n",
            "...        ...     ...     ...         ...       ...        ...   ...     ...   \n",
            "539378  539379      CO     178         OGG       SNA          5  1439     326   \n",
            "539379  539380      FL     398         SEA       ATL          5  1439     305   \n",
            "539380  539381      FL     609         SFO       MKE          5  1439     255   \n",
            "539381  539382      UA      78         HNL       SFO          5  1439     313   \n",
            "539382  539383      US    1442         LAX       PHL          5  1439     301   \n",
            "\n",
            "        Delay  \n",
            "0           1  \n",
            "1           1  \n",
            "2           1  \n",
            "3           1  \n",
            "4           0  \n",
            "...       ...  \n",
            "539378      0  \n",
            "539379      0  \n",
            "539380      0  \n",
            "539381      1  \n",
            "539382      1  \n",
            "\n",
            "[539383 rows x 9 columns]\n"
          ]
        }
      ]
    },
    {
      "cell_type": "code",
      "source": [
        "data.info()"
      ],
      "metadata": {
        "colab": {
          "base_uri": "https://localhost:8080/"
        },
        "id": "XXLuVL7iHUE9",
        "outputId": "2903ebc9-b8c3-4e78-b563-f03daf8e72a9"
      },
      "execution_count": 7,
      "outputs": [
        {
          "output_type": "stream",
          "name": "stdout",
          "text": [
            "<class 'pandas.core.frame.DataFrame'>\n",
            "RangeIndex: 539383 entries, 0 to 539382\n",
            "Data columns (total 9 columns):\n",
            " #   Column       Non-Null Count   Dtype \n",
            "---  ------       --------------   ----- \n",
            " 0   id           539383 non-null  int64 \n",
            " 1   Airline      539383 non-null  object\n",
            " 2   Flight       539383 non-null  int64 \n",
            " 3   AirportFrom  539383 non-null  object\n",
            " 4   AirportTo    539383 non-null  object\n",
            " 5   DayOfWeek    539383 non-null  int64 \n",
            " 6   Time         539383 non-null  int64 \n",
            " 7   Length       539383 non-null  int64 \n",
            " 8   Delay        539383 non-null  int64 \n",
            "dtypes: int64(6), object(3)\n",
            "memory usage: 37.0+ MB\n"
          ]
        }
      ]
    },
    {
      "cell_type": "code",
      "source": [
        "columnas_categoricas = data.select_dtypes(include=['object']).columns"
      ],
      "metadata": {
        "id": "idOqHX6pHsM9"
      },
      "execution_count": 8,
      "outputs": []
    },
    {
      "cell_type": "code",
      "source": [
        "#Procesamiento de frases o palabras\n",
        "for columna in columnas_categoricas:\n",
        "  le = LabelEncoder()\n",
        "  data[columna] = le.fit_transform(data[columna])"
      ],
      "metadata": {
        "id": "W15RI3u8H3L9"
      },
      "execution_count": 9,
      "outputs": []
    },
    {
      "cell_type": "code",
      "source": [
        "data.info()"
      ],
      "metadata": {
        "colab": {
          "base_uri": "https://localhost:8080/"
        },
        "id": "Xs5YFAEKH3qN",
        "outputId": "7e412864-1cde-449a-f6e0-18a2e4551707"
      },
      "execution_count": 10,
      "outputs": [
        {
          "output_type": "stream",
          "name": "stdout",
          "text": [
            "<class 'pandas.core.frame.DataFrame'>\n",
            "RangeIndex: 539383 entries, 0 to 539382\n",
            "Data columns (total 9 columns):\n",
            " #   Column       Non-Null Count   Dtype\n",
            "---  ------       --------------   -----\n",
            " 0   id           539383 non-null  int64\n",
            " 1   Airline      539383 non-null  int64\n",
            " 2   Flight       539383 non-null  int64\n",
            " 3   AirportFrom  539383 non-null  int64\n",
            " 4   AirportTo    539383 non-null  int64\n",
            " 5   DayOfWeek    539383 non-null  int64\n",
            " 6   Time         539383 non-null  int64\n",
            " 7   Length       539383 non-null  int64\n",
            " 8   Delay        539383 non-null  int64\n",
            "dtypes: int64(9)\n",
            "memory usage: 37.0 MB\n"
          ]
        }
      ]
    },
    {
      "cell_type": "code",
      "source": [
        "print(data)"
      ],
      "metadata": {
        "colab": {
          "base_uri": "https://localhost:8080/"
        },
        "id": "TObaqdlXOH3n",
        "outputId": "14bc6222-83c1-493c-a844-e705f30e90f5"
      },
      "execution_count": 11,
      "outputs": [
        {
          "output_type": "stream",
          "name": "stdout",
          "text": [
            "            id  Airline  Flight  AirportFrom  AirportTo  DayOfWeek  Time  \\\n",
            "0            1        4     269          253        135          3    15   \n",
            "1            2       14    1558          217         60          3    15   \n",
            "2            3        1    2400          154         80          3    20   \n",
            "3            4        1    2466          253         80          3    20   \n",
            "4            5        2     108           14        252          3    30   \n",
            "...        ...      ...     ...          ...        ...        ...   ...   \n",
            "539378  539379        4     178          203        264          5  1439   \n",
            "539379  539380        8     398          252         16          5  1439   \n",
            "539380  539381        8     609          253        184          5  1439   \n",
            "539381  539382       13      78          128        253          5  1439   \n",
            "539382  539383       14    1442          154        216          5  1439   \n",
            "\n",
            "        Length  Delay  \n",
            "0          205      1  \n",
            "1          222      1  \n",
            "2          165      1  \n",
            "3          195      1  \n",
            "4          202      0  \n",
            "...        ...    ...  \n",
            "539378     326      0  \n",
            "539379     305      0  \n",
            "539380     255      0  \n",
            "539381     313      1  \n",
            "539382     301      1  \n",
            "\n",
            "[539383 rows x 9 columns]\n"
          ]
        }
      ]
    },
    {
      "cell_type": "code",
      "source": [
        "print(data.columns)"
      ],
      "metadata": {
        "colab": {
          "base_uri": "https://localhost:8080/"
        },
        "id": "rH3cJPFxIhVP",
        "outputId": "6ff8e71f-b46d-4ff4-ea56-bec8c4b75b65"
      },
      "execution_count": 12,
      "outputs": [
        {
          "output_type": "stream",
          "name": "stdout",
          "text": [
            "Index(['id', 'Airline', 'Flight', 'AirportFrom', 'AirportTo', 'DayOfWeek',\n",
            "       'Time', 'Length', 'Delay'],\n",
            "      dtype='object')\n"
          ]
        }
      ]
    },
    {
      "cell_type": "code",
      "source": [
        "#eliminar columna id\n",
        "columna_eliminada = 'id'\n",
        "data.drop(columna_eliminada, axis=1, inplace=True)"
      ],
      "metadata": {
        "id": "RDIz8if4OU0C"
      },
      "execution_count": 13,
      "outputs": []
    },
    {
      "cell_type": "code",
      "source": [
        "data.info()"
      ],
      "metadata": {
        "colab": {
          "base_uri": "https://localhost:8080/"
        },
        "id": "xabjLng7OeOj",
        "outputId": "8246aa2f-9b31-440d-81c1-51c7b64a14c7"
      },
      "execution_count": 14,
      "outputs": [
        {
          "output_type": "stream",
          "name": "stdout",
          "text": [
            "<class 'pandas.core.frame.DataFrame'>\n",
            "RangeIndex: 539383 entries, 0 to 539382\n",
            "Data columns (total 8 columns):\n",
            " #   Column       Non-Null Count   Dtype\n",
            "---  ------       --------------   -----\n",
            " 0   Airline      539383 non-null  int64\n",
            " 1   Flight       539383 non-null  int64\n",
            " 2   AirportFrom  539383 non-null  int64\n",
            " 3   AirportTo    539383 non-null  int64\n",
            " 4   DayOfWeek    539383 non-null  int64\n",
            " 5   Time         539383 non-null  int64\n",
            " 6   Length       539383 non-null  int64\n",
            " 7   Delay        539383 non-null  int64\n",
            "dtypes: int64(8)\n",
            "memory usage: 32.9 MB\n"
          ]
        }
      ]
    },
    {
      "cell_type": "code",
      "source": [
        "# Division de dataset en entrenamiento y prueba\n",
        "train_data, test_data = train_test_split(data, test_size=0.2, random_state=42)"
      ],
      "metadata": {
        "id": "DbjYGtTBPnZb"
      },
      "execution_count": 15,
      "outputs": []
    },
    {
      "cell_type": "code",
      "source": [
        "print(train_data)"
      ],
      "metadata": {
        "colab": {
          "base_uri": "https://localhost:8080/"
        },
        "id": "khKI4oAyP-dM",
        "outputId": "4c0eae2c-c232-4dce-a437-8d256c7a6aca"
      },
      "execution_count": 16,
      "outputs": [
        {
          "output_type": "stream",
          "name": "stdout",
          "text": [
            "        Airline  Flight  AirportFrom  AirportTo  DayOfWeek  Time  Length  \\\n",
            "498081        7     796          214         79          3   900     143   \n",
            "203828       15    3586          243        258          7  1185      80   \n",
            "156549        1     705          159         80          5   365     250   \n",
            "66053         5    2825           35        197          6  1090     207   \n",
            "165376        8    1102           61        241          5   818     150   \n",
            "...         ...     ...          ...        ...        ...   ...     ...   \n",
            "110268       14      20          217        128          2   715     403   \n",
            "259178       12    6401          224        253          4   375     125   \n",
            "365838       11    6594           27        159          3   360     160   \n",
            "131932       13     938           79        208          3   955     144   \n",
            "121958        5    2952          277        159          3   420     159   \n",
            "\n",
            "        Delay  \n",
            "498081      0  \n",
            "203828      1  \n",
            "156549      1  \n",
            "66053       0  \n",
            "165376      1  \n",
            "...       ...  \n",
            "110268      0  \n",
            "259178      1  \n",
            "365838      0  \n",
            "131932      0  \n",
            "121958      1  \n",
            "\n",
            "[431506 rows x 8 columns]\n"
          ]
        }
      ]
    },
    {
      "cell_type": "code",
      "source": [
        "print(test_data)"
      ],
      "metadata": {
        "colab": {
          "base_uri": "https://localhost:8080/"
        },
        "id": "vduophXyQE0w",
        "outputId": "584e4913-a554-4089-9cac-ca74207d702c"
      },
      "execution_count": 17,
      "outputs": [
        {
          "output_type": "stream",
          "name": "stdout",
          "text": [
            "        Airline  Flight  AirportFrom  AirportTo  DayOfWeek  Time  Length  \\\n",
            "442150       12    6477          262        154          7   881      85   \n",
            "229730       13     310           79        159          2   665     223   \n",
            "69994        15    1739          202        153          7   465      85   \n",
            "414293        3    1085          148         60          5   990     131   \n",
            "171704        2     129          252         98          5  1150     235   \n",
            "...         ...     ...          ...        ...        ...   ...     ...   \n",
            "290929        6    5579          121         16          5  1064      66   \n",
            "466596       12    6358          246        154          1  1186      44   \n",
            "392244       12    4794           65        261          4   750     102   \n",
            "502274        8     277           35         16          3  1118     172   \n",
            "381831        3     271          153         44          3  1177      63   \n",
            "\n",
            "        Delay  \n",
            "442150      1  \n",
            "229730      1  \n",
            "69994       1  \n",
            "414293      0  \n",
            "171704      1  \n",
            "...       ...  \n",
            "290929      1  \n",
            "466596      0  \n",
            "392244      0  \n",
            "502274      0  \n",
            "381831      1  \n",
            "\n",
            "[107877 rows x 8 columns]\n"
          ]
        }
      ]
    },
    {
      "cell_type": "code",
      "source": [
        "train_data.info()"
      ],
      "metadata": {
        "colab": {
          "base_uri": "https://localhost:8080/"
        },
        "id": "eEoGodyvQLx-",
        "outputId": "5b8a6ff9-1f30-46cc-ba3c-f45a15bcee14"
      },
      "execution_count": 18,
      "outputs": [
        {
          "output_type": "stream",
          "name": "stdout",
          "text": [
            "<class 'pandas.core.frame.DataFrame'>\n",
            "Int64Index: 431506 entries, 498081 to 121958\n",
            "Data columns (total 8 columns):\n",
            " #   Column       Non-Null Count   Dtype\n",
            "---  ------       --------------   -----\n",
            " 0   Airline      431506 non-null  int64\n",
            " 1   Flight       431506 non-null  int64\n",
            " 2   AirportFrom  431506 non-null  int64\n",
            " 3   AirportTo    431506 non-null  int64\n",
            " 4   DayOfWeek    431506 non-null  int64\n",
            " 5   Time         431506 non-null  int64\n",
            " 6   Length       431506 non-null  int64\n",
            " 7   Delay        431506 non-null  int64\n",
            "dtypes: int64(8)\n",
            "memory usage: 29.6 MB\n"
          ]
        }
      ]
    },
    {
      "cell_type": "code",
      "source": [
        "test_data.info()"
      ],
      "metadata": {
        "colab": {
          "base_uri": "https://localhost:8080/"
        },
        "id": "TkqLznABQMmv",
        "outputId": "9da19baf-e4db-4c9c-ebdd-d2a3bc710eb4"
      },
      "execution_count": 19,
      "outputs": [
        {
          "output_type": "stream",
          "name": "stdout",
          "text": [
            "<class 'pandas.core.frame.DataFrame'>\n",
            "Int64Index: 107877 entries, 442150 to 381831\n",
            "Data columns (total 8 columns):\n",
            " #   Column       Non-Null Count   Dtype\n",
            "---  ------       --------------   -----\n",
            " 0   Airline      107877 non-null  int64\n",
            " 1   Flight       107877 non-null  int64\n",
            " 2   AirportFrom  107877 non-null  int64\n",
            " 3   AirportTo    107877 non-null  int64\n",
            " 4   DayOfWeek    107877 non-null  int64\n",
            " 5   Time         107877 non-null  int64\n",
            " 6   Length       107877 non-null  int64\n",
            " 7   Delay        107877 non-null  int64\n",
            "dtypes: int64(8)\n",
            "memory usage: 7.4 MB\n"
          ]
        }
      ]
    },
    {
      "cell_type": "code",
      "source": [
        "train_data.to_csv(\"train.csv\", index=False)"
      ],
      "metadata": {
        "id": "DuPj4qeGQXI7"
      },
      "execution_count": 20,
      "outputs": []
    },
    {
      "cell_type": "code",
      "source": [
        "test_data.to_csv(\"test.csv\", index=False)"
      ],
      "metadata": {
        "id": "pwLwqqJgQWyZ"
      },
      "execution_count": 21,
      "outputs": []
    },
    {
      "cell_type": "code",
      "source": [
        "#Carga de dataset de entrenamiento\n",
        "data = pd.read_csv('/content/train.csv')"
      ],
      "metadata": {
        "id": "zHXpOKbgQdJX"
      },
      "execution_count": 22,
      "outputs": []
    },
    {
      "cell_type": "code",
      "source": [
        "X = data.iloc[:, :7]\n",
        "y = data.iloc[:, 7]\n",
        "m = y.size"
      ],
      "metadata": {
        "id": "goNmhx-DQfqX"
      },
      "execution_count": 23,
      "outputs": []
    },
    {
      "cell_type": "code",
      "source": [
        "print(X)\n",
        "print('*'*25)\n",
        "print(y)"
      ],
      "metadata": {
        "colab": {
          "base_uri": "https://localhost:8080/"
        },
        "id": "6jOm9R7TQycb",
        "outputId": "b6f7b1ea-aed6-4450-be3c-be8a7d8c0553"
      },
      "execution_count": 24,
      "outputs": [
        {
          "output_type": "stream",
          "name": "stdout",
          "text": [
            "        Airline  Flight  AirportFrom  AirportTo  DayOfWeek  Time  Length\n",
            "0             7     796          214         79          3   900     143\n",
            "1            15    3586          243        258          7  1185      80\n",
            "2             1     705          159         80          5   365     250\n",
            "3             5    2825           35        197          6  1090     207\n",
            "4             8    1102           61        241          5   818     150\n",
            "...         ...     ...          ...        ...        ...   ...     ...\n",
            "431501       14      20          217        128          2   715     403\n",
            "431502       12    6401          224        253          4   375     125\n",
            "431503       11    6594           27        159          3   360     160\n",
            "431504       13     938           79        208          3   955     144\n",
            "431505        5    2952          277        159          3   420     159\n",
            "\n",
            "[431506 rows x 7 columns]\n",
            "*************************\n",
            "0         0\n",
            "1         1\n",
            "2         1\n",
            "3         0\n",
            "4         1\n",
            "         ..\n",
            "431501    0\n",
            "431502    1\n",
            "431503    0\n",
            "431504    0\n",
            "431505    1\n",
            "Name: Delay, Length: 431506, dtype: int64\n"
          ]
        }
      ]
    },
    {
      "cell_type": "code",
      "source": [
        "def  featureNormalize(X):\n",
        "    X_norm = X.copy()\n",
        "    mu = np.zeros(X.shape[1])\n",
        "    sigma = np.zeros(X.shape[1])\n",
        "\n",
        "    mu = np.mean(X, axis = 0)\n",
        "    sigma = np.std(X, axis = 0)\n",
        "    X_norm = (X - mu) / sigma\n",
        "\n",
        "    return X_norm, mu, sigma"
      ],
      "metadata": {
        "id": "6PV8shS5I6iM"
      },
      "execution_count": 25,
      "outputs": []
    },
    {
      "cell_type": "code",
      "source": [
        "# llama featureNormalize con los datos cargados\n",
        "X_norm, mu, sigma = featureNormalize(X)\n",
        "\n",
        "print(X)\n",
        "print('Media calculada:', mu)\n",
        "print('Desviación estandar calculada:', sigma)\n",
        "print(X_norm)"
      ],
      "metadata": {
        "colab": {
          "base_uri": "https://localhost:8080/"
        },
        "id": "-xSn1AcwI-hm",
        "outputId": "7949fea5-9120-4703-ef7f-b2b40e877da1"
      },
      "execution_count": 26,
      "outputs": [
        {
          "output_type": "stream",
          "name": "stdout",
          "text": [
            "        Airline  Flight  AirportFrom  AirportTo  DayOfWeek  Time  Length\n",
            "0             7     796          214         79          3   900     143\n",
            "1            15    3586          243        258          7  1185      80\n",
            "2             1     705          159         80          5   365     250\n",
            "3             5    2825           35        197          6  1090     207\n",
            "4             8    1102           61        241          5   818     150\n",
            "...         ...     ...          ...        ...        ...   ...     ...\n",
            "431501       14      20          217        128          2   715     403\n",
            "431502       12    6401          224        253          4   375     125\n",
            "431503       11    6594           27        159          3   360     160\n",
            "431504       13     938           79        208          3   955     144\n",
            "431505        5    2952          277        159          3   420     159\n",
            "\n",
            "[431506 rows x 7 columns]\n",
            "Media calculada: Airline           9.333615\n",
            "Flight         2426.334969\n",
            "AirportFrom     144.105092\n",
            "AirportTo       144.050219\n",
            "DayOfWeek         3.929551\n",
            "Time            802.476288\n",
            "Length          132.242917\n",
            "dtype: float64\n",
            "Desviación estandar calculada: Airline           5.305317\n",
            "Flight         2066.766495\n",
            "AirportFrom      79.361383\n",
            "AirportTo        79.325158\n",
            "DayOfWeek         1.913586\n",
            "Time            277.997798\n",
            "Length           70.127565\n",
            "dtype: float64\n",
            "         Airline    Flight  AirportFrom  AirportTo  DayOfWeek      Time  \\\n",
            "0      -0.439863 -0.788834     0.880717  -0.820045  -0.485764  0.350807   \n",
            "1       1.068058  0.561101     1.246134   1.436490   1.604552  1.375995   \n",
            "2      -1.570804 -0.832864     0.187685  -0.807439   0.559394 -1.573668   \n",
            "3      -0.816844  0.192893    -1.374788   0.667503   1.081973  1.034266   \n",
            "4      -0.251373 -0.640776    -1.047173   1.222182   0.559394  0.055841   \n",
            "...          ...       ...          ...        ...        ...       ...   \n",
            "431501  0.879568 -1.164299     0.918519  -0.202335  -1.008343 -0.314665   \n",
            "431502  0.502587  1.923132     1.006723   1.373458   0.036815 -1.537697   \n",
            "431503  0.314097  2.016515    -1.475593   0.188462  -0.485764 -1.591654   \n",
            "431504  0.691077 -0.720127    -0.820362   0.806173  -0.485764  0.548651   \n",
            "431505 -0.816844  0.254342     1.674554   0.188462  -0.485764 -1.375825   \n",
            "\n",
            "          Length  \n",
            "0       0.153393  \n",
            "1      -0.744970  \n",
            "2       1.679184  \n",
            "3       1.066016  \n",
            "4       0.253211  \n",
            "...          ...  \n",
            "431501  3.860922  \n",
            "431502 -0.103282  \n",
            "431503  0.395808  \n",
            "431504  0.167653  \n",
            "431505  0.381549  \n",
            "\n",
            "[431506 rows x 7 columns]\n"
          ]
        }
      ]
    },
    {
      "cell_type": "code",
      "source": [
        "def sigmoid(z):\n",
        "    # Calcula la sigmoide de una entrada z\n",
        "    # convierte la intrada a un arreglo numpy\n",
        "    z = np.array(z)\n",
        "\n",
        "    g = np.zeros(z.shape)\n",
        "\n",
        "    g = 1 / (1 + np.exp(-z))\n",
        "\n",
        "    return g"
      ],
      "metadata": {
        "id": "A82auwL9JdoU"
      },
      "execution_count": 27,
      "outputs": []
    },
    {
      "cell_type": "code",
      "source": [
        "# Prueba la implementacion de la funcion sigmoid\n",
        "z = 0\n",
        "g = sigmoid(z)\n",
        "\n",
        "print('g(', z, ') = ', g)"
      ],
      "metadata": {
        "colab": {
          "base_uri": "https://localhost:8080/"
        },
        "id": "KyO8HwDmJ5XN",
        "outputId": "f2f54a72-6a7f-400d-97c8-99b354798500"
      },
      "execution_count": 28,
      "outputs": [
        {
          "output_type": "stream",
          "name": "stdout",
          "text": [
            "g( 0 ) =  0.5\n"
          ]
        }
      ]
    },
    {
      "cell_type": "code",
      "source": [
        "# Configurar la matriz adecuadamente, y agregar una columna de unos que corresponde al termino de intercepción.\n",
        "m, n = X.shape\n",
        "# Agraga el termino de intercepción a A\n",
        "X = np.concatenate([np.ones((m, 1)), X], axis=1)"
      ],
      "metadata": {
        "id": "yMqQPgWEKCi2"
      },
      "execution_count": 29,
      "outputs": []
    },
    {
      "cell_type": "code",
      "source": [
        "print(X)"
      ],
      "metadata": {
        "colab": {
          "base_uri": "https://localhost:8080/"
        },
        "id": "7u3QuO2KRg72",
        "outputId": "9eae8b96-e5c4-4e82-996c-78260b858d69"
      },
      "execution_count": 30,
      "outputs": [
        {
          "output_type": "stream",
          "name": "stdout",
          "text": [
            "[[1.000e+00 7.000e+00 7.960e+02 ... 3.000e+00 9.000e+02 1.430e+02]\n",
            " [1.000e+00 1.500e+01 3.586e+03 ... 7.000e+00 1.185e+03 8.000e+01]\n",
            " [1.000e+00 1.000e+00 7.050e+02 ... 5.000e+00 3.650e+02 2.500e+02]\n",
            " ...\n",
            " [1.000e+00 1.100e+01 6.594e+03 ... 3.000e+00 3.600e+02 1.600e+02]\n",
            " [1.000e+00 1.300e+01 9.380e+02 ... 3.000e+00 9.550e+02 1.440e+02]\n",
            " [1.000e+00 5.000e+00 2.952e+03 ... 3.000e+00 4.200e+02 1.590e+02]]\n"
          ]
        }
      ]
    },
    {
      "cell_type": "code",
      "source": [
        "def calcularCosto(theta, X, y):\n",
        "    # Inicializar algunos valores utiles\n",
        "    m = y.size  # numero de ejemplos de entrenamiento\n",
        "    #epsilon = 1e-8\n",
        "\n",
        "    J = 0\n",
        "    h = sigmoid(X.dot(theta.T))\n",
        "    J = (1 / m) * np.sum(-y.dot(np.log(h)) - (1 - y).dot(np.log(1 - h)))\n",
        "\n",
        "    return J"
      ],
      "metadata": {
        "id": "Q913BU6UKOBl"
      },
      "execution_count": 31,
      "outputs": []
    },
    {
      "cell_type": "code",
      "source": [
        "def descensoGradiente(theta, X, y, alpha, num_iters):\n",
        "    # Inicializa algunos valores\n",
        "    m = y.shape[0] # numero de ejemplos de entrenamiento\n",
        "\n",
        "    # realiza una copia de theta, el cual será acutalizada por el descenso por el gradiente\n",
        "    theta = theta.copy()\n",
        "    J_history = []\n",
        "\n",
        "    for i in range(num_iters):\n",
        "        h = sigmoid(X.dot(theta.T))\n",
        "        theta = theta - (alpha / m) * (h - y).dot(X)\n",
        "\n",
        "        J_history.append(calcularCosto(theta, X, y))\n",
        "    return theta, J_history"
      ],
      "metadata": {
        "id": "LgkpYp56KQyn"
      },
      "execution_count": 32,
      "outputs": []
    },
    {
      "cell_type": "code",
      "source": [
        "#Carga de dataset de prueba\n",
        "data = pd.read_csv('/content/test.csv')\n",
        "print(data)"
      ],
      "metadata": {
        "colab": {
          "base_uri": "https://localhost:8080/"
        },
        "id": "KQHl-NNkRqPa",
        "outputId": "d0883d08-0485-4df8-f314-741c80cf30de"
      },
      "execution_count": 33,
      "outputs": [
        {
          "output_type": "stream",
          "name": "stdout",
          "text": [
            "        Airline  Flight  AirportFrom  AirportTo  DayOfWeek  Time  Length  \\\n",
            "0            12    6477          262        154          7   881      85   \n",
            "1            13     310           79        159          2   665     223   \n",
            "2            15    1739          202        153          7   465      85   \n",
            "3             3    1085          148         60          5   990     131   \n",
            "4             2     129          252         98          5  1150     235   \n",
            "...         ...     ...          ...        ...        ...   ...     ...   \n",
            "107872        6    5579          121         16          5  1064      66   \n",
            "107873       12    6358          246        154          1  1186      44   \n",
            "107874       12    4794           65        261          4   750     102   \n",
            "107875        8     277           35         16          3  1118     172   \n",
            "107876        3     271          153         44          3  1177      63   \n",
            "\n",
            "        Delay  \n",
            "0           1  \n",
            "1           1  \n",
            "2           1  \n",
            "3           0  \n",
            "4           1  \n",
            "...       ...  \n",
            "107872      1  \n",
            "107873      0  \n",
            "107874      0  \n",
            "107875      0  \n",
            "107876      1  \n",
            "\n",
            "[107877 rows x 8 columns]\n"
          ]
        }
      ]
    },
    {
      "cell_type": "code",
      "source": [
        "#extrayendo filas del Dataset de pruebas para comprobar\n",
        "fila_deseada = 1;\n",
        "if fila_deseada < len(data) :\n",
        "  fila_completa = data.iloc[fila_deseada].to_numpy()\n",
        "  print(fila_completa)\n",
        "else:\n",
        "  print(\"la fila no existe\")"
      ],
      "metadata": {
        "colab": {
          "base_uri": "https://localhost:8080/"
        },
        "id": "wDSSijb6NTCF",
        "outputId": "0b39773e-c515-4cf1-b1de-ee2180faf7e4"
      },
      "execution_count": 34,
      "outputs": [
        {
          "output_type": "stream",
          "name": "stdout",
          "text": [
            "[ 13 310  79 159   2 665 223   1]\n"
          ]
        }
      ]
    },
    {
      "cell_type": "code",
      "source": [
        "fila_deseada = 3;\n",
        "if fila_deseada < len(data) :\n",
        "  fila_completa = data.iloc[fila_deseada].to_numpy()\n",
        "  print(fila_completa)\n",
        "else:\n",
        "  print(\"la fila no existe\")"
      ],
      "metadata": {
        "colab": {
          "base_uri": "https://localhost:8080/"
        },
        "id": "SFcn2HP8Y0kU",
        "outputId": "8e843227-3220-4b0a-fa18-a3ea0a6949b0"
      },
      "execution_count": 47,
      "outputs": [
        {
          "output_type": "stream",
          "name": "stdout",
          "text": [
            "[   3 1085  148   60    5  990  131    0]\n"
          ]
        }
      ]
    },
    {
      "cell_type": "code",
      "source": [
        "# Elegir algun valor para alpha (probar varias alternativas)\n",
        "alpha = 0.001\n",
        "num_iters = 2000\n",
        "\n",
        "# inicializa theta y ejecuta el descenso por el gradiente\n",
        "theta = np.zeros(8)\n",
        "theta, J_history = descensoGradiente(theta, X, y, alpha, num_iters)\n",
        "\n",
        "# Grafica la convergencia del costo\n",
        "#pyplot.plot(np.arange(len(J_history)), J_history, lw=2)\n",
        "#pyplot.xlabel('Numero de iteraciones')\n",
        "#pyplot.ylabel('Costo J')\n",
        "\n",
        "# Muestra los resultados del descenso por el gradiente\n",
        "print('theta calculado por el descenso por el gradiente: {:s}'.format(str(theta)))\n",
        "\n",
        "# verificar si existe retraso en el vuelo o no\n",
        "X_array = [1, 13, 310, 79, 159, 2, 665, 223]\n",
        "#X_array = [1, 3, 1085, 148, 60, 5, 990, 131]\n",
        "aprueba = sigmoid(np.dot(X_array, theta))   # Se debe cambiar esto\n",
        "\n",
        "print('El resultado entre falso y verdadero es (usando el descenso por el gradiente):{:.0f}'.format(aprueba))"
      ],
      "metadata": {
        "colab": {
          "base_uri": "https://localhost:8080/"
        },
        "id": "LQCSGKnFKTRl",
        "outputId": "925cb78d-ccd7-449b-f739-7e24c4537039"
      },
      "execution_count": 62,
      "outputs": [
        {
          "output_type": "stream",
          "name": "stderr",
          "text": [
            "<ipython-input-27-22f640bc02db>:8: RuntimeWarning: overflow encountered in exp\n",
            "  g = 1 / (1 + np.exp(-z))\n",
            "<ipython-input-31-80d181a16dea>:8: RuntimeWarning: divide by zero encountered in log\n",
            "  J = (1 / m) * np.sum(-y.dot(np.log(h)) - (1 - y).dot(np.log(1 - h)))\n"
          ]
        },
        {
          "output_type": "stream",
          "name": "stdout",
          "text": [
            "theta calculado por el descenso por el gradiente: [-0.02599827  0.127475    0.62680583 -0.42079431  0.02168192 -0.15151361\n",
            "  0.6025848  -0.42994597]\n",
            "El resultado entre falso y verdadero es (usando el descenso por el gradiente):1\n"
          ]
        }
      ]
    },
    {
      "cell_type": "code",
      "source": [
        "##################Utilizando optimize.minimize ##################"
      ],
      "metadata": {
        "id": "wR3NOaG5hIUO"
      },
      "execution_count": null,
      "outputs": []
    },
    {
      "cell_type": "code",
      "source": [
        "def costFunction(theta, X, y):\n",
        "    # Inicializar algunos valores utiles\n",
        "    m = y.size  # numero de ejemplos de entrenamiento\n",
        "    epsilon = 1e-8\n",
        "\n",
        "    J = 0\n",
        "    grad = np.zeros(theta.shape)\n",
        "\n",
        "    h = sigmoid(X.dot(theta.T))\n",
        "\n",
        "    J = (1 / m) * np.sum(-y.dot(np.log(h+epsilon)) - (1 - y).dot(np.log(1 - h+epsilon)))\n",
        "    grad = (1 / m) * (h - y).dot(X)\n",
        "\n",
        "    return J, grad"
      ],
      "metadata": {
        "id": "JbCLqE5QcV03"
      },
      "execution_count": 54,
      "outputs": []
    },
    {
      "cell_type": "code",
      "source": [
        "# Inicializacion de parametros de ajuste\n",
        "initial_theta = np.zeros(n+1)\n",
        "print(initial_theta)\n",
        "cost, grad = costFunction(initial_theta, X, y)\n",
        "\n",
        "print('Costo en theta inicial (zeros): {:.3f}'.format(cost))\n",
        "print('Costo esperado (aproximado): 0.693\\n')\n",
        "print(grad)\n",
        "print('Gradiente en theta inicial (zeros):')\n",
        "print('\\t[{:.4f}, {:.4f}, {:.4f}]'.format(*grad))\n",
        "print('Gradiente esperado (aproximado):\\n\\t[-0.1000, -12.0092, -11.2628]\\n')"
      ],
      "metadata": {
        "colab": {
          "base_uri": "https://localhost:8080/"
        },
        "id": "BPUTa9z7cZc4",
        "outputId": "d14e9286-7383-44b1-d31e-ceaf412315df"
      },
      "execution_count": 55,
      "outputs": [
        {
          "output_type": "stream",
          "name": "stdout",
          "text": [
            "[0. 0. 0. 0. 0. 0. 0. 0.]\n",
            "Costo en theta inicial (zeros): 0.693\n",
            "Costo esperado (aproximado): 0.693\n",
            "\n",
            "[5.44302976e-02 3.29407934e-01 1.78975765e+02 7.10304144e+00\n",
            " 5.92896275e+00 2.39223788e-01 2.30658589e+01 5.76797310e+00]\n",
            "Gradiente en theta inicial (zeros):\n",
            "\t[0.0544, 0.3294, 178.9758]\n",
            "Gradiente esperado (aproximado):\n",
            "\t[-0.1000, -12.0092, -11.2628]\n",
            "\n"
          ]
        }
      ]
    },
    {
      "cell_type": "code",
      "source": [
        "# Establecer las opciones para optimize.minimize\n",
        "options= {'maxiter': 1000}\n",
        "\n",
        "# revisar la documentacion de scipy's optimize.minimize para mayor descripcion de los parametros\n",
        "# La funcion devuekve un objeto `OptimizeResult`\n",
        "# Se utiliza el algoritmo de Newton truncado para la optimización.\n",
        "res = optimize.minimize(costFunction,\n",
        "                        initial_theta,\n",
        "                        (X, y),\n",
        "                        jac=True,\n",
        "                        method='TNC',\n",
        "                        options=options)\n",
        "\n",
        "# la propiedad fun del objeto devuelto por `OptimizeResult`\n",
        "# contiene el valor del costFunction de un theta optimizado\n",
        "cost = res.fun\n",
        "\n",
        "# Theta optimizada esta en la propiedad x\n",
        "theta = res.x\n",
        "\n",
        "# Imprimir theta en la pantalla\n",
        "print('Costo con un valor de theta encontrado por optimize.minimize: {:.3f}'.format(cost))\n",
        "print('Costo esperado (aproximado): 0.203\\n');\n",
        "\n",
        "print('theta:')\n",
        "print('\\t[{:.3f}, {:.3f}, {:.3f}]'.format(*theta))\n",
        "print('Theta esperado (aproximado):\\n\\t[-25.161, 0.206, 0.201]')"
      ],
      "metadata": {
        "colab": {
          "base_uri": "https://localhost:8080/"
        },
        "id": "d_CG_W0acas4",
        "outputId": "ebece79b-06a9-4e7c-eb3e-36542b283f27"
      },
      "execution_count": 56,
      "outputs": [
        {
          "output_type": "stream",
          "name": "stderr",
          "text": [
            "<ipython-input-56-0dfcfa2e2ef1>:7: OptimizeWarning: Unknown solver options: maxiter\n",
            "  res = optimize.minimize(costFunction,\n"
          ]
        },
        {
          "output_type": "stream",
          "name": "stdout",
          "text": [
            "Costo con un valor de theta encontrado por optimize.minimize: 0.670\n",
            "Costo esperado (aproximado): 0.203\n",
            "\n",
            "theta:\n",
            "\t[-1.527, 0.029, -0.000]\n",
            "Theta esperado (aproximado):\n",
            "\t[-25.161, 0.206, 0.201]\n"
          ]
        }
      ]
    },
    {
      "cell_type": "code",
      "source": [
        "def plotDecisionBoundary(plotData, theta, X, y):\n",
        "\n",
        "    # hacer que theta sera un arreglo numpy\n",
        "    theta = np.array(theta)\n",
        "\n",
        "    # Graficar los datos (recordar que la primera columna en X es la intercepción)\n",
        "    plotData(X[:, 1:8], y)\n",
        "\n",
        "    if X.shape[1] <= 8:\n",
        "        # Solo se requieren 2 puntos para definir una linea, para lo cual se eligen dos puntos finales\n",
        "        plot_x = np.array([np.min(X[:, 1]) - 2, np.max(X[:, 1]) + 2])\n",
        "\n",
        "        # Calcular la línea límite de decisión\n",
        "        plot_y = (-1. / theta[2]) * (theta[1] * plot_x + theta[0])\n",
        "\n",
        "        print(plot_x)\n",
        "        print(plot_y)\n",
        "        # Graficar y ajustar los ejes para una mejor visualización\n",
        "        pyplot.plot(plot_x, plot_y)\n",
        "\n",
        "        # Leyenda, especifica para el ejercicio\n",
        "        pyplot.legend(['Retraso', 'Sin Retraso', 'Limite de decisión'])\n",
        "        pyplot.xlim([30, 100])\n",
        "        pyplot.ylim([30, 100])\n",
        "    else:\n",
        "        # Rango de la grilla\n",
        "        u = np.linspace(-1, 1.5, 50)\n",
        "        v = np.linspace(-1, 1.5, 50)\n",
        "\n",
        "        z = np.zeros((u.size, v.size))\n",
        "        # Evalua z = theta*x sobre la grilla\n",
        "        for i, ui in enumerate(u):\n",
        "            for j, vj in enumerate(v):\n",
        "                z[i, j] = np.dot(mapFeature(ui, vj), theta)\n",
        "\n",
        "        z = z.T  # importante transponer z antes de llamar al contorno\n",
        "        # print(z)\n",
        "\n",
        "        # Plot z = 0\n",
        "        pyplot.contour(u, v, z, levels=[0], linewidths=2, colors='g')\n",
        "        pyplot.contourf(u, v, z, levels=[np.min(z), 0, np.max(z)], cmap='Greens', alpha=0.4)"
      ],
      "metadata": {
        "id": "-7ytQPdhcfnM"
      },
      "execution_count": 57,
      "outputs": []
    },
    {
      "cell_type": "code",
      "source": [
        "def predict(theta, X):\n",
        "    m = X.shape[0] # Numero de ejemplo de entrenamiento\n",
        "\n",
        "    p = np.zeros(m)\n",
        "\n",
        "    p = np.round(sigmoid(X.dot(theta.T)))\n",
        "    return p"
      ],
      "metadata": {
        "id": "JBcY-ELacqev"
      },
      "execution_count": 58,
      "outputs": []
    },
    {
      "cell_type": "code",
      "source": [
        "#  Predice la probabilidad de retraso de un vuelo\n",
        "prob = sigmoid(np.dot([1, 13, 310, 79, 159, 2, 665, 223], theta))\n",
        "print('El resultado entre falso y verdadero es: {:.3f}'.format(prob))\n",
        "print('Valor esperado: 0.775 +/- 0.002\\n')\n",
        "\n",
        "# Compute accuracy on our training set\n",
        "p = predict(theta, X)\n",
        "print('Precisión de entrenamiento: {:.2f} %'.format(np.mean(p == y) * 100))\n",
        "print('Precisión esperada (aproximadamente): 89.00 %')"
      ],
      "metadata": {
        "colab": {
          "base_uri": "https://localhost:8080/"
        },
        "id": "wu_VG6GFcuJu",
        "outputId": "92e8e455-4de7-4d2d-a448-e0d9b8edf148"
      },
      "execution_count": 61,
      "outputs": [
        {
          "output_type": "stream",
          "name": "stdout",
          "text": [
            "El resultado entre falso y verdadero es: 0.493\n",
            "Valor esperado: 0.775 +/- 0.002\n",
            "\n",
            "Precisión de entrenamiento: 58.39 %\n",
            "Precisión esperada (aproximadamente): 89.00 %\n"
          ]
        }
      ]
    }
  ]
}